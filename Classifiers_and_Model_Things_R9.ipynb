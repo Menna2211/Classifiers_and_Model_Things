{
  "nbformat": 4,
  "nbformat_minor": 0,
  "metadata": {
    "colab": {
      "provenance": [],
      "collapsed_sections": [
        "4SXEu0qG1PIt"
      ]
    },
    "kernelspec": {
      "name": "python3",
      "display_name": "Python 3"
    },
    "accelerator": "TPU"
  },
  "cells": [
    {
      "cell_type": "markdown",
      "metadata": {
        "id": "XLtyB6vppMMu"
      },
      "source": [
        "Welcome to  your first Classification Tasks\n",
        "Get Ready to Dig in Classification World"
      ]
    },
    {
      "cell_type": "markdown",
      "metadata": {
        "id": "7jAc_lgxpaiz"
      },
      "source": [
        "# **Classifiers**\n"
      ]
    },
    {
      "cell_type": "code",
      "metadata": {
        "id": "m3fVUwyapnSr",
        "colab": {
          "base_uri": "https://localhost:8080/"
        },
        "outputId": "63aee724-e72f-4661-9f4d-88d1841f7fc1"
      },
      "source": [
        "from google.colab import drive\n",
        "drive.mount('/content/drive/')\n",
        "import os\n",
        "os.chdir('/content/drive/MyDrive/E2Edata')  # Fix This if your file is in a Certain Directory in Your Drive"
      ],
      "execution_count": null,
      "outputs": [
        {
          "output_type": "stream",
          "name": "stdout",
          "text": [
            "Drive already mounted at /content/drive/; to attempt to forcibly remount, call drive.mount(\"/content/drive/\", force_remount=True).\n"
          ]
        }
      ]
    },
    {
      "cell_type": "code",
      "metadata": {
        "id": "TqSycbbvrBBy"
      },
      "source": [
        "# imports\n",
        "import numpy as np\n",
        "import pandas as pd\n",
        "from sklearn.model_selection import train_test_split\n",
        "from sklearn.tree import DecisionTreeClassifier\n",
        "from sklearn.metrics import accuracy_score, precision_score,recall_score\n",
        "from sklearn import tree"
      ],
      "execution_count": null,
      "outputs": []
    },
    {
      "cell_type": "code",
      "metadata": {
        "id": "PrvJsTSwrBEd",
        "colab": {
          "base_uri": "https://localhost:8080/"
        },
        "outputId": "6b94a701-9108-41bf-e12b-9588d52b31e7"
      },
      "source": [
        "dataset = pd.read_csv('Social_Network_Ads.csv')\n",
        "print(dataset)"
      ],
      "execution_count": null,
      "outputs": [
        {
          "output_type": "stream",
          "name": "stdout",
          "text": [
            "      User ID  Gender  Age  EstimatedSalary  Purchased\n",
            "0    15624510    Male   19            19000          0\n",
            "1    15810944    Male   35            20000          0\n",
            "2    15668575  Female   26            43000          0\n",
            "3    15603246  Female   27            57000          0\n",
            "4    15804002    Male   19            76000          0\n",
            "..        ...     ...  ...              ...        ...\n",
            "395  15691863  Female   46            41000          1\n",
            "396  15706071    Male   51            23000          1\n",
            "397  15654296  Female   50            20000          1\n",
            "398  15755018    Male   36            33000          0\n",
            "399  15594041  Female   49            36000          1\n",
            "\n",
            "[400 rows x 5 columns]\n"
          ]
        }
      ]
    },
    {
      "cell_type": "markdown",
      "metadata": {
        "id": "vtGxI2SZJbjD"
      },
      "source": [
        "Do you remember Label Encoding ?\n",
        "Look at this"
      ]
    },
    {
      "cell_type": "code",
      "metadata": {
        "id": "-bK2ZxaXDW5u",
        "colab": {
          "base_uri": "https://localhost:8080/"
        },
        "outputId": "40fc780c-98e4-44fc-9abd-1f3d5aeec639"
      },
      "source": [
        "X = dataset.iloc[:, :-1].values\n",
        "y = dataset.iloc[:, -1].values\n",
        "# splitting into test and train\n",
        "X_train, X_test, y_train, y_test = train_test_split(X,y, test_size = 0.25 ,random_state= 0)\n",
        "X_train"
      ],
      "execution_count": null,
      "outputs": [
        {
          "output_type": "execute_result",
          "data": {
            "text/plain": [
              "array([[15810075, 'Female', 44, 39000],\n",
              "       [15583681, 'Male', 32, 120000],\n",
              "       [15733964, 'Female', 38, 50000],\n",
              "       ...,\n",
              "       [15591433, 'Male', 36, 52000],\n",
              "       [15776348, 'Female', 27, 54000],\n",
              "       [15794661, 'Female', 26, 118000]], dtype=object)"
            ]
          },
          "metadata": {},
          "execution_count": 38
        }
      ]
    },
    {
      "cell_type": "code",
      "metadata": {
        "id": "GEiTEKC-JYGV",
        "colab": {
          "base_uri": "https://localhost:8080/"
        },
        "outputId": "4080f414-191f-4ad6-f688-4c7768072ac8"
      },
      "source": [
        "from sklearn.preprocessing import LabelEncoder\n",
        "encoder=LabelEncoder()\n",
        "X_train[:,1] = encoder.fit_transform(X_train[:,1])\n",
        "X_test[:,1]=encoder.transform(X_test[:,1] )\n",
        "X_train"
      ],
      "execution_count": null,
      "outputs": [
        {
          "output_type": "execute_result",
          "data": {
            "text/plain": [
              "array([[15810075, 0, 44, 39000],\n",
              "       [15583681, 1, 32, 120000],\n",
              "       [15733964, 0, 38, 50000],\n",
              "       ...,\n",
              "       [15591433, 1, 36, 52000],\n",
              "       [15776348, 0, 27, 54000],\n",
              "       [15794661, 0, 26, 118000]], dtype=object)"
            ]
          },
          "metadata": {},
          "execution_count": 39
        }
      ]
    },
    {
      "cell_type": "code",
      "source": [
        "from sklearn.preprocessing import StandardScaler\n",
        "sc=StandardScaler()\n",
        "X_train=sc.fit_transform(X_train)\n",
        "X_test =sc.transform(X_test)"
      ],
      "metadata": {
        "id": "1_hmFCEpo2pj"
      },
      "execution_count": null,
      "outputs": []
    },
    {
      "cell_type": "markdown",
      "metadata": {
        "id": "H75qBDuwKmYq"
      },
      "source": [
        "# **Decisison Tree**"
      ]
    },
    {
      "cell_type": "code",
      "metadata": {
        "id": "QRvhOhGPKUX9",
        "colab": {
          "base_uri": "https://localhost:8080/"
        },
        "outputId": "fc21d2d7-07d6-416f-ef91-217e4760bc15"
      },
      "source": [
        "# function to perform training with entropy\n",
        "clf = DecisionTreeClassifier(random_state= 0)\n",
        "clf.fit(X_train, y_train)"
      ],
      "execution_count": null,
      "outputs": [
        {
          "output_type": "execute_result",
          "data": {
            "text/plain": [
              "DecisionTreeClassifier(random_state=0)"
            ]
          },
          "metadata": {},
          "execution_count": 41
        }
      ]
    },
    {
      "cell_type": "code",
      "metadata": {
        "id": "Qk93b_-HDW83",
        "colab": {
          "base_uri": "https://localhost:8080/"
        },
        "outputId": "476a7340-41ac-455a-da7c-12ea9736bdd4"
      },
      "source": [
        "y_pred_en = clf.predict(X_test)\n",
        "print('Accuracy score : ', accuracy_score(y_test, y_pred_en)*100)"
      ],
      "execution_count": null,
      "outputs": [
        {
          "output_type": "stream",
          "name": "stdout",
          "text": [
            "Accuracy score :  91.0\n"
          ]
        }
      ]
    },
    {
      "cell_type": "code",
      "metadata": {
        "id": "GW12zkxPrDNo",
        "colab": {
          "base_uri": "https://localhost:8080/",
          "height": 1000
        },
        "outputId": "c05b4974-1bfc-4827-8ff5-0e07947d1022"
      },
      "source": [
        "# For Visualization  of the Tree\n",
        "import graphviz\n",
        "X = dataset.iloc[:, :-1]\n",
        "Y = dataset.iloc[:, -1]\n",
        "dot_data = tree.export_graphviz(clf, out_file=None,\n",
        "                         feature_names = X.columns,\n",
        "                         class_names = [\"yes\",\"no\"],\n",
        "                         filled=True, rounded=True,\n",
        "                         special_characters=True)\n",
        "graph = graphviz.Source(dot_data)\n",
        "graph"
      ],
      "execution_count": null,
      "outputs": [
        {
          "output_type": "execute_result",
          "data": {
            "text/plain": [
              "<graphviz.files.Source at 0x7f2448597eb0>"
            ],
            "image/svg+xml": "<?xml version=\"1.0\" encoding=\"UTF-8\" standalone=\"no\"?>\n<!DOCTYPE svg PUBLIC \"-//W3C//DTD SVG 1.1//EN\"\n \"http://www.w3.org/Graphics/SVG/1.1/DTD/svg11.dtd\">\n<!-- Generated by graphviz version 2.40.1 (20161225.0304)\n -->\n<!-- Title: Tree Pages: 1 -->\n<svg width=\"2043pt\" height=\"1385pt\"\n viewBox=\"0.00 0.00 2043.00 1385.00\" xmlns=\"http://www.w3.org/2000/svg\" xmlns:xlink=\"http://www.w3.org/1999/xlink\">\n<g id=\"graph0\" class=\"graph\" transform=\"scale(1 1) rotate(0) translate(4 1381)\">\n<title>Tree</title>\n<polygon fill=\"#ffffff\" stroke=\"transparent\" points=\"-4,4 -4,-1381 2039,-1381 2039,4 -4,4\"/>\n<!-- 0 -->\n<g id=\"node1\" class=\"node\">\n<title>0</title>\n<path fill=\"#f4cbae\" stroke=\"#000000\" d=\"M1127.5,-1377C1127.5,-1377 1019.5,-1377 1019.5,-1377 1013.5,-1377 1007.5,-1371 1007.5,-1365 1007.5,-1365 1007.5,-1306 1007.5,-1306 1007.5,-1300 1013.5,-1294 1019.5,-1294 1019.5,-1294 1127.5,-1294 1127.5,-1294 1133.5,-1294 1139.5,-1300 1139.5,-1306 1139.5,-1306 1139.5,-1365 1139.5,-1365 1139.5,-1371 1133.5,-1377 1127.5,-1377\"/>\n<text text-anchor=\"start\" x=\"1034\" y=\"-1361.8\" font-family=\"Helvetica,sans-Serif\" font-size=\"14.00\" fill=\"#000000\">Age ≤ 0.447</text>\n<text text-anchor=\"start\" x=\"1035.5\" y=\"-1346.8\" font-family=\"Helvetica,sans-Serif\" font-size=\"14.00\" fill=\"#000000\">gini = 0.467</text>\n<text text-anchor=\"start\" x=\"1025.5\" y=\"-1331.8\" font-family=\"Helvetica,sans-Serif\" font-size=\"14.00\" fill=\"#000000\">samples = 280</text>\n<text text-anchor=\"start\" x=\"1015.5\" y=\"-1316.8\" font-family=\"Helvetica,sans-Serif\" font-size=\"14.00\" fill=\"#000000\">value = [176, 104]</text>\n<text text-anchor=\"start\" x=\"1037\" y=\"-1301.8\" font-family=\"Helvetica,sans-Serif\" font-size=\"14.00\" fill=\"#000000\">class = yes</text>\n</g>\n<!-- 1 -->\n<g id=\"node2\" class=\"node\">\n<title>1</title>\n<path fill=\"#eb9d66\" stroke=\"#000000\" d=\"M902.5,-1258C902.5,-1258 752.5,-1258 752.5,-1258 746.5,-1258 740.5,-1252 740.5,-1246 740.5,-1246 740.5,-1187 740.5,-1187 740.5,-1181 746.5,-1175 752.5,-1175 752.5,-1175 902.5,-1175 902.5,-1175 908.5,-1175 914.5,-1181 914.5,-1187 914.5,-1187 914.5,-1246 914.5,-1246 914.5,-1252 908.5,-1258 902.5,-1258\"/>\n<text text-anchor=\"start\" x=\"748.5\" y=\"-1242.8\" font-family=\"Helvetica,sans-Serif\" font-size=\"14.00\" fill=\"#000000\">EstimatedSalary ≤ 0.553</text>\n<text text-anchor=\"start\" x=\"798\" y=\"-1227.8\" font-family=\"Helvetica,sans-Serif\" font-size=\"14.00\" fill=\"#000000\">gini = 0.3</text>\n<text text-anchor=\"start\" x=\"779.5\" y=\"-1212.8\" font-family=\"Helvetica,sans-Serif\" font-size=\"14.00\" fill=\"#000000\">samples = 201</text>\n<text text-anchor=\"start\" x=\"773.5\" y=\"-1197.8\" font-family=\"Helvetica,sans-Serif\" font-size=\"14.00\" fill=\"#000000\">value = [164, 37]</text>\n<text text-anchor=\"start\" x=\"791\" y=\"-1182.8\" font-family=\"Helvetica,sans-Serif\" font-size=\"14.00\" fill=\"#000000\">class = yes</text>\n</g>\n<!-- 0&#45;&gt;1 -->\n<g id=\"edge1\" class=\"edge\">\n<title>0&#45;&gt;1</title>\n<path fill=\"none\" stroke=\"#000000\" d=\"M1007.2529,-1303.4536C981.1856,-1290.8438 950.7626,-1276.127 922.437,-1262.4248\"/>\n<polygon fill=\"#000000\" stroke=\"#000000\" points=\"923.8485,-1259.2197 913.3223,-1258.0157 920.8002,-1265.5211 923.8485,-1259.2197\"/>\n<text text-anchor=\"middle\" x=\"921.5378\" y=\"-1277.9272\" font-family=\"Helvetica,sans-Serif\" font-size=\"14.00\" fill=\"#000000\">True</text>\n</g>\n<!-- 40 -->\n<g id=\"node41\" class=\"node\">\n<title>40</title>\n<path fill=\"#5cafea\" stroke=\"#000000\" d=\"M1298.5,-1258C1298.5,-1258 1206.5,-1258 1206.5,-1258 1200.5,-1258 1194.5,-1252 1194.5,-1246 1194.5,-1246 1194.5,-1187 1194.5,-1187 1194.5,-1181 1200.5,-1175 1206.5,-1175 1206.5,-1175 1298.5,-1175 1298.5,-1175 1304.5,-1175 1310.5,-1181 1310.5,-1187 1310.5,-1187 1310.5,-1246 1310.5,-1246 1310.5,-1252 1304.5,-1258 1298.5,-1258\"/>\n<text text-anchor=\"start\" x=\"1213\" y=\"-1242.8\" font-family=\"Helvetica,sans-Serif\" font-size=\"14.00\" fill=\"#000000\">Age ≤ 0.832</text>\n<text text-anchor=\"start\" x=\"1214.5\" y=\"-1227.8\" font-family=\"Helvetica,sans-Serif\" font-size=\"14.00\" fill=\"#000000\">gini = 0.258</text>\n<text text-anchor=\"start\" x=\"1208.5\" y=\"-1212.8\" font-family=\"Helvetica,sans-Serif\" font-size=\"14.00\" fill=\"#000000\">samples = 79</text>\n<text text-anchor=\"start\" x=\"1202.5\" y=\"-1197.8\" font-family=\"Helvetica,sans-Serif\" font-size=\"14.00\" fill=\"#000000\">value = [12, 67]</text>\n<text text-anchor=\"start\" x=\"1219\" y=\"-1182.8\" font-family=\"Helvetica,sans-Serif\" font-size=\"14.00\" fill=\"#000000\">class = no</text>\n</g>\n<!-- 0&#45;&gt;40 -->\n<g id=\"edge40\" class=\"edge\">\n<title>0&#45;&gt;40</title>\n<path fill=\"none\" stroke=\"#000000\" d=\"M1136.1055,-1293.8796C1152.2457,-1283.1495 1169.6724,-1271.5642 1186.0029,-1260.7076\"/>\n<polygon fill=\"#000000\" stroke=\"#000000\" points=\"1188.0402,-1263.5561 1194.4302,-1255.1051 1184.1648,-1257.7267 1188.0402,-1263.5561\"/>\n<text text-anchor=\"middle\" x=\"1189.4957\" y=\"-1275.9132\" font-family=\"Helvetica,sans-Serif\" font-size=\"14.00\" fill=\"#000000\">False</text>\n</g>\n<!-- 2 -->\n<g id=\"node3\" class=\"node\">\n<title>2</title>\n<path fill=\"#e68742\" stroke=\"#000000\" d=\"M459.5,-1139C459.5,-1139 367.5,-1139 367.5,-1139 361.5,-1139 355.5,-1133 355.5,-1127 355.5,-1127 355.5,-1068 355.5,-1068 355.5,-1062 361.5,-1056 367.5,-1056 367.5,-1056 459.5,-1056 459.5,-1056 465.5,-1056 471.5,-1062 471.5,-1068 471.5,-1068 471.5,-1127 471.5,-1127 471.5,-1133 465.5,-1139 459.5,-1139\"/>\n<text text-anchor=\"start\" x=\"372\" y=\"-1123.8\" font-family=\"Helvetica,sans-Serif\" font-size=\"14.00\" fill=\"#000000\">Age ≤ &#45;0.129</text>\n<text text-anchor=\"start\" x=\"375.5\" y=\"-1108.8\" font-family=\"Helvetica,sans-Serif\" font-size=\"14.00\" fill=\"#000000\">gini = 0.081</text>\n<text text-anchor=\"start\" x=\"365.5\" y=\"-1093.8\" font-family=\"Helvetica,sans-Serif\" font-size=\"14.00\" fill=\"#000000\">samples = 165</text>\n<text text-anchor=\"start\" x=\"363.5\" y=\"-1078.8\" font-family=\"Helvetica,sans-Serif\" font-size=\"14.00\" fill=\"#000000\">value = [158, 7]</text>\n<text text-anchor=\"start\" x=\"377\" y=\"-1063.8\" font-family=\"Helvetica,sans-Serif\" font-size=\"14.00\" fill=\"#000000\">class = yes</text>\n</g>\n<!-- 1&#45;&gt;2 -->\n<g id=\"edge2\" class=\"edge\">\n<title>1&#45;&gt;2</title>\n<path fill=\"none\" stroke=\"#000000\" d=\"M740.4597,-1191.4812C663.3313,-1169.3114 552.2747,-1137.3894 481.5061,-1117.0477\"/>\n<polygon fill=\"#000000\" stroke=\"#000000\" points=\"482.3733,-1113.6552 471.7955,-1114.2564 480.4394,-1120.3828 482.3733,-1113.6552\"/>\n</g>\n<!-- 29 -->\n<g id=\"node30\" class=\"node\">\n<title>29</title>\n<path fill=\"#61b1ea\" stroke=\"#000000\" d=\"M902.5,-1139C902.5,-1139 752.5,-1139 752.5,-1139 746.5,-1139 740.5,-1133 740.5,-1127 740.5,-1127 740.5,-1068 740.5,-1068 740.5,-1062 746.5,-1056 752.5,-1056 752.5,-1056 902.5,-1056 902.5,-1056 908.5,-1056 914.5,-1062 914.5,-1068 914.5,-1068 914.5,-1127 914.5,-1127 914.5,-1133 908.5,-1139 902.5,-1139\"/>\n<text text-anchor=\"start\" x=\"748.5\" y=\"-1123.8\" font-family=\"Helvetica,sans-Serif\" font-size=\"14.00\" fill=\"#000000\">EstimatedSalary ≤ 1.378</text>\n<text text-anchor=\"start\" x=\"789.5\" y=\"-1108.8\" font-family=\"Helvetica,sans-Serif\" font-size=\"14.00\" fill=\"#000000\">gini = 0.278</text>\n<text text-anchor=\"start\" x=\"783.5\" y=\"-1093.8\" font-family=\"Helvetica,sans-Serif\" font-size=\"14.00\" fill=\"#000000\">samples = 36</text>\n<text text-anchor=\"start\" x=\"782\" y=\"-1078.8\" font-family=\"Helvetica,sans-Serif\" font-size=\"14.00\" fill=\"#000000\">value = [6, 30]</text>\n<text text-anchor=\"start\" x=\"794\" y=\"-1063.8\" font-family=\"Helvetica,sans-Serif\" font-size=\"14.00\" fill=\"#000000\">class = no</text>\n</g>\n<!-- 1&#45;&gt;29 -->\n<g id=\"edge29\" class=\"edge\">\n<title>1&#45;&gt;29</title>\n<path fill=\"none\" stroke=\"#000000\" d=\"M827.5,-1174.8796C827.5,-1166.6838 827.5,-1157.9891 827.5,-1149.5013\"/>\n<polygon fill=\"#000000\" stroke=\"#000000\" points=\"831.0001,-1149.298 827.5,-1139.2981 824.0001,-1149.2981 831.0001,-1149.298\"/>\n</g>\n<!-- 3 -->\n<g id=\"node4\" class=\"node\">\n<title>3</title>\n<path fill=\"#e58139\" stroke=\"#000000\" d=\"M322.5,-1012.5C322.5,-1012.5 230.5,-1012.5 230.5,-1012.5 224.5,-1012.5 218.5,-1006.5 218.5,-1000.5 218.5,-1000.5 218.5,-956.5 218.5,-956.5 218.5,-950.5 224.5,-944.5 230.5,-944.5 230.5,-944.5 322.5,-944.5 322.5,-944.5 328.5,-944.5 334.5,-950.5 334.5,-956.5 334.5,-956.5 334.5,-1000.5 334.5,-1000.5 334.5,-1006.5 328.5,-1012.5 322.5,-1012.5\"/>\n<text text-anchor=\"start\" x=\"247\" y=\"-997.3\" font-family=\"Helvetica,sans-Serif\" font-size=\"14.00\" fill=\"#000000\">gini = 0.0</text>\n<text text-anchor=\"start\" x=\"228.5\" y=\"-982.3\" font-family=\"Helvetica,sans-Serif\" font-size=\"14.00\" fill=\"#000000\">samples = 104</text>\n<text text-anchor=\"start\" x=\"226.5\" y=\"-967.3\" font-family=\"Helvetica,sans-Serif\" font-size=\"14.00\" fill=\"#000000\">value = [104, 0]</text>\n<text text-anchor=\"start\" x=\"240\" y=\"-952.3\" font-family=\"Helvetica,sans-Serif\" font-size=\"14.00\" fill=\"#000000\">class = yes</text>\n</g>\n<!-- 2&#45;&gt;3 -->\n<g id=\"edge3\" class=\"edge\">\n<title>2&#45;&gt;3</title>\n<path fill=\"none\" stroke=\"#000000\" d=\"M365.584,-1055.8796C352.0385,-1044.1138 337.3092,-1031.3197 323.8002,-1019.5855\"/>\n<polygon fill=\"#000000\" stroke=\"#000000\" points=\"325.8503,-1016.7303 316.0054,-1012.8149 321.2599,-1022.015 325.8503,-1016.7303\"/>\n</g>\n<!-- 4 -->\n<g id=\"node5\" class=\"node\">\n<title>4</title>\n<path fill=\"#e89153\" stroke=\"#000000\" d=\"M462.5,-1020C462.5,-1020 364.5,-1020 364.5,-1020 358.5,-1020 352.5,-1014 352.5,-1008 352.5,-1008 352.5,-949 352.5,-949 352.5,-943 358.5,-937 364.5,-937 364.5,-937 462.5,-937 462.5,-937 468.5,-937 474.5,-943 474.5,-949 474.5,-949 474.5,-1008 474.5,-1008 474.5,-1014 468.5,-1020 462.5,-1020\"/>\n<text text-anchor=\"start\" x=\"360.5\" y=\"-1004.8\" font-family=\"Helvetica,sans-Serif\" font-size=\"14.00\" fill=\"#000000\">User ID ≤ &#45;1.569</text>\n<text text-anchor=\"start\" x=\"375.5\" y=\"-989.8\" font-family=\"Helvetica,sans-Serif\" font-size=\"14.00\" fill=\"#000000\">gini = 0.203</text>\n<text text-anchor=\"start\" x=\"369.5\" y=\"-974.8\" font-family=\"Helvetica,sans-Serif\" font-size=\"14.00\" fill=\"#000000\">samples = 61</text>\n<text text-anchor=\"start\" x=\"368\" y=\"-959.8\" font-family=\"Helvetica,sans-Serif\" font-size=\"14.00\" fill=\"#000000\">value = [54, 7]</text>\n<text text-anchor=\"start\" x=\"377\" y=\"-944.8\" font-family=\"Helvetica,sans-Serif\" font-size=\"14.00\" fill=\"#000000\">class = yes</text>\n</g>\n<!-- 2&#45;&gt;4 -->\n<g id=\"edge4\" class=\"edge\">\n<title>2&#45;&gt;4</title>\n<path fill=\"none\" stroke=\"#000000\" d=\"M413.5,-1055.8796C413.5,-1047.6838 413.5,-1038.9891 413.5,-1030.5013\"/>\n<polygon fill=\"#000000\" stroke=\"#000000\" points=\"417.0001,-1030.298 413.5,-1020.2981 410.0001,-1030.2981 417.0001,-1030.298\"/>\n</g>\n<!-- 5 -->\n<g id=\"node6\" class=\"node\">\n<title>5</title>\n<path fill=\"#9ccef2\" stroke=\"#000000\" d=\"M267,-901C267,-901 112,-901 112,-901 106,-901 100,-895 100,-889 100,-889 100,-830 100,-830 100,-824 106,-818 112,-818 112,-818 267,-818 267,-818 273,-818 279,-824 279,-830 279,-830 279,-889 279,-889 279,-895 273,-901 267,-901\"/>\n<text text-anchor=\"start\" x=\"108\" y=\"-885.8\" font-family=\"Helvetica,sans-Serif\" font-size=\"14.00\" fill=\"#000000\">EstimatedSalary ≤ &#45;0.374</text>\n<text text-anchor=\"start\" x=\"151.5\" y=\"-870.8\" font-family=\"Helvetica,sans-Serif\" font-size=\"14.00\" fill=\"#000000\">gini = 0.444</text>\n<text text-anchor=\"start\" x=\"150\" y=\"-855.8\" font-family=\"Helvetica,sans-Serif\" font-size=\"14.00\" fill=\"#000000\">samples = 3</text>\n<text text-anchor=\"start\" x=\"148\" y=\"-840.8\" font-family=\"Helvetica,sans-Serif\" font-size=\"14.00\" fill=\"#000000\">value = [1, 2]</text>\n<text text-anchor=\"start\" x=\"156\" y=\"-825.8\" font-family=\"Helvetica,sans-Serif\" font-size=\"14.00\" fill=\"#000000\">class = no</text>\n</g>\n<!-- 4&#45;&gt;5 -->\n<g id=\"edge5\" class=\"edge\">\n<title>4&#45;&gt;5</title>\n<path fill=\"none\" stroke=\"#000000\" d=\"M352.1777,-941.8212C349.254,-940.1744 346.3506,-938.5598 343.5,-937 324.3736,-926.5339 303.6631,-915.7491 283.8185,-905.6743\"/>\n<polygon fill=\"#000000\" stroke=\"#000000\" points=\"285.2738,-902.4882 274.7704,-901.099 282.115,-908.735 285.2738,-902.4882\"/>\n</g>\n<!-- 8 -->\n<g id=\"node9\" class=\"node\">\n<title>8</title>\n<path fill=\"#e78d4c\" stroke=\"#000000\" d=\"M488.5,-901C488.5,-901 338.5,-901 338.5,-901 332.5,-901 326.5,-895 326.5,-889 326.5,-889 326.5,-830 326.5,-830 326.5,-824 332.5,-818 338.5,-818 338.5,-818 488.5,-818 488.5,-818 494.5,-818 500.5,-824 500.5,-830 500.5,-830 500.5,-889 500.5,-889 500.5,-895 494.5,-901 488.5,-901\"/>\n<text text-anchor=\"start\" x=\"334.5\" y=\"-885.8\" font-family=\"Helvetica,sans-Serif\" font-size=\"14.00\" fill=\"#000000\">EstimatedSalary ≤ 0.053</text>\n<text text-anchor=\"start\" x=\"375.5\" y=\"-870.8\" font-family=\"Helvetica,sans-Serif\" font-size=\"14.00\" fill=\"#000000\">gini = 0.158</text>\n<text text-anchor=\"start\" x=\"369.5\" y=\"-855.8\" font-family=\"Helvetica,sans-Serif\" font-size=\"14.00\" fill=\"#000000\">samples = 58</text>\n<text text-anchor=\"start\" x=\"368\" y=\"-840.8\" font-family=\"Helvetica,sans-Serif\" font-size=\"14.00\" fill=\"#000000\">value = [53, 5]</text>\n<text text-anchor=\"start\" x=\"377\" y=\"-825.8\" font-family=\"Helvetica,sans-Serif\" font-size=\"14.00\" fill=\"#000000\">class = yes</text>\n</g>\n<!-- 4&#45;&gt;8 -->\n<g id=\"edge8\" class=\"edge\">\n<title>4&#45;&gt;8</title>\n<path fill=\"none\" stroke=\"#000000\" d=\"M413.5,-936.8796C413.5,-928.6838 413.5,-919.9891 413.5,-911.5013\"/>\n<polygon fill=\"#000000\" stroke=\"#000000\" points=\"417.0001,-911.298 413.5,-901.2981 410.0001,-911.2981 417.0001,-911.298\"/>\n</g>\n<!-- 6 -->\n<g id=\"node7\" class=\"node\">\n<title>6</title>\n<path fill=\"#e58139\" stroke=\"#000000\" d=\"M110,-774.5C110,-774.5 35,-774.5 35,-774.5 29,-774.5 23,-768.5 23,-762.5 23,-762.5 23,-718.5 23,-718.5 23,-712.5 29,-706.5 35,-706.5 35,-706.5 110,-706.5 110,-706.5 116,-706.5 122,-712.5 122,-718.5 122,-718.5 122,-762.5 122,-762.5 122,-768.5 116,-774.5 110,-774.5\"/>\n<text text-anchor=\"start\" x=\"43\" y=\"-759.3\" font-family=\"Helvetica,sans-Serif\" font-size=\"14.00\" fill=\"#000000\">gini = 0.0</text>\n<text text-anchor=\"start\" x=\"33\" y=\"-744.3\" font-family=\"Helvetica,sans-Serif\" font-size=\"14.00\" fill=\"#000000\">samples = 1</text>\n<text text-anchor=\"start\" x=\"31\" y=\"-729.3\" font-family=\"Helvetica,sans-Serif\" font-size=\"14.00\" fill=\"#000000\">value = [1, 0]</text>\n<text text-anchor=\"start\" x=\"36\" y=\"-714.3\" font-family=\"Helvetica,sans-Serif\" font-size=\"14.00\" fill=\"#000000\">class = yes</text>\n</g>\n<!-- 5&#45;&gt;6 -->\n<g id=\"edge6\" class=\"edge\">\n<title>5&#45;&gt;6</title>\n<path fill=\"none\" stroke=\"#000000\" d=\"M148.5791,-817.8796C137.2272,-806.3337 124.9018,-793.7976 113.543,-782.2446\"/>\n<polygon fill=\"#000000\" stroke=\"#000000\" points=\"115.7449,-779.4919 106.2382,-774.8149 110.7534,-784.3995 115.7449,-779.4919\"/>\n</g>\n<!-- 7 -->\n<g id=\"node8\" class=\"node\">\n<title>7</title>\n<path fill=\"#399de5\" stroke=\"#000000\" d=\"M227,-774.5C227,-774.5 152,-774.5 152,-774.5 146,-774.5 140,-768.5 140,-762.5 140,-762.5 140,-718.5 140,-718.5 140,-712.5 146,-706.5 152,-706.5 152,-706.5 227,-706.5 227,-706.5 233,-706.5 239,-712.5 239,-718.5 239,-718.5 239,-762.5 239,-762.5 239,-768.5 233,-774.5 227,-774.5\"/>\n<text text-anchor=\"start\" x=\"160\" y=\"-759.3\" font-family=\"Helvetica,sans-Serif\" font-size=\"14.00\" fill=\"#000000\">gini = 0.0</text>\n<text text-anchor=\"start\" x=\"150\" y=\"-744.3\" font-family=\"Helvetica,sans-Serif\" font-size=\"14.00\" fill=\"#000000\">samples = 2</text>\n<text text-anchor=\"start\" x=\"148\" y=\"-729.3\" font-family=\"Helvetica,sans-Serif\" font-size=\"14.00\" fill=\"#000000\">value = [0, 2]</text>\n<text text-anchor=\"start\" x=\"156\" y=\"-714.3\" font-family=\"Helvetica,sans-Serif\" font-size=\"14.00\" fill=\"#000000\">class = no</text>\n</g>\n<!-- 5&#45;&gt;7 -->\n<g id=\"edge7\" class=\"edge\">\n<title>5&#45;&gt;7</title>\n<path fill=\"none\" stroke=\"#000000\" d=\"M189.5,-817.8796C189.5,-807.2134 189.5,-795.7021 189.5,-784.9015\"/>\n<polygon fill=\"#000000\" stroke=\"#000000\" points=\"193.0001,-784.8149 189.5,-774.8149 186.0001,-784.815 193.0001,-784.8149\"/>\n</g>\n<!-- 9 -->\n<g id=\"node10\" class=\"node\">\n<title>9</title>\n<path fill=\"#e6843e\" stroke=\"#000000\" d=\"M352,-782C352,-782 269,-782 269,-782 263,-782 257,-776 257,-770 257,-770 257,-711 257,-711 257,-705 263,-699 269,-699 269,-699 352,-699 352,-699 358,-699 364,-705 364,-711 364,-711 364,-770 364,-770 364,-776 358,-782 352,-782\"/>\n<text text-anchor=\"start\" x=\"269\" y=\"-766.8\" font-family=\"Helvetica,sans-Serif\" font-size=\"14.00\" fill=\"#000000\">Age ≤ &#45;0.033</text>\n<text text-anchor=\"start\" x=\"277\" y=\"-751.8\" font-family=\"Helvetica,sans-Serif\" font-size=\"14.00\" fill=\"#000000\">gini = 0.05</text>\n<text text-anchor=\"start\" x=\"266.5\" y=\"-736.8\" font-family=\"Helvetica,sans-Serif\" font-size=\"14.00\" fill=\"#000000\">samples = 39</text>\n<text text-anchor=\"start\" x=\"265\" y=\"-721.8\" font-family=\"Helvetica,sans-Serif\" font-size=\"14.00\" fill=\"#000000\">value = [38, 1]</text>\n<text text-anchor=\"start\" x=\"274\" y=\"-706.8\" font-family=\"Helvetica,sans-Serif\" font-size=\"14.00\" fill=\"#000000\">class = yes</text>\n</g>\n<!-- 8&#45;&gt;9 -->\n<g id=\"edge9\" class=\"edge\">\n<title>8&#45;&gt;9</title>\n<path fill=\"none\" stroke=\"#000000\" d=\"M377.4756,-817.8796C369.6802,-808.8733 361.3633,-799.2644 353.3356,-789.9897\"/>\n<polygon fill=\"#000000\" stroke=\"#000000\" points=\"355.8691,-787.5686 346.6782,-782.2981 350.5763,-792.1498 355.8691,-787.5686\"/>\n</g>\n<!-- 16 -->\n<g id=\"node17\" class=\"node\">\n<title>16</title>\n<path fill=\"#eca36e\" stroke=\"#000000\" d=\"M488,-782C488,-782 395,-782 395,-782 389,-782 383,-776 383,-770 383,-770 383,-711 383,-711 383,-705 389,-699 395,-699 395,-699 488,-699 488,-699 494,-699 500,-705 500,-711 500,-711 500,-770 500,-770 500,-776 494,-782 488,-782\"/>\n<text text-anchor=\"start\" x=\"391\" y=\"-766.8\" font-family=\"Helvetica,sans-Serif\" font-size=\"14.00\" fill=\"#000000\">User ID ≤ 0.373</text>\n<text text-anchor=\"start\" x=\"403.5\" y=\"-751.8\" font-family=\"Helvetica,sans-Serif\" font-size=\"14.00\" fill=\"#000000\">gini = 0.332</text>\n<text text-anchor=\"start\" x=\"397.5\" y=\"-736.8\" font-family=\"Helvetica,sans-Serif\" font-size=\"14.00\" fill=\"#000000\">samples = 19</text>\n<text text-anchor=\"start\" x=\"396\" y=\"-721.8\" font-family=\"Helvetica,sans-Serif\" font-size=\"14.00\" fill=\"#000000\">value = [15, 4]</text>\n<text text-anchor=\"start\" x=\"405\" y=\"-706.8\" font-family=\"Helvetica,sans-Serif\" font-size=\"14.00\" fill=\"#000000\">class = yes</text>\n</g>\n<!-- 8&#45;&gt;16 -->\n<g id=\"edge16\" class=\"edge\">\n<title>8&#45;&gt;16</title>\n<path fill=\"none\" stroke=\"#000000\" d=\"M423.293,-817.8796C425.2426,-809.5938 427.3122,-800.798 429.3302,-792.2216\"/>\n<polygon fill=\"#000000\" stroke=\"#000000\" points=\"432.7817,-792.8339 431.6652,-782.2981 425.9677,-791.2306 432.7817,-792.8339\"/>\n</g>\n<!-- 10 -->\n<g id=\"node11\" class=\"node\">\n<title>10</title>\n<path fill=\"#e99355\" stroke=\"#000000\" d=\"M226,-663C226,-663 133,-663 133,-663 127,-663 121,-657 121,-651 121,-651 121,-592 121,-592 121,-586 127,-580 133,-580 133,-580 226,-580 226,-580 232,-580 238,-586 238,-592 238,-592 238,-651 238,-651 238,-657 232,-663 226,-663\"/>\n<text text-anchor=\"start\" x=\"129\" y=\"-647.8\" font-family=\"Helvetica,sans-Serif\" font-size=\"14.00\" fill=\"#000000\">User ID ≤ 0.829</text>\n<text text-anchor=\"start\" x=\"141.5\" y=\"-632.8\" font-family=\"Helvetica,sans-Serif\" font-size=\"14.00\" fill=\"#000000\">gini = 0.219</text>\n<text text-anchor=\"start\" x=\"140\" y=\"-617.8\" font-family=\"Helvetica,sans-Serif\" font-size=\"14.00\" fill=\"#000000\">samples = 8</text>\n<text text-anchor=\"start\" x=\"138\" y=\"-602.8\" font-family=\"Helvetica,sans-Serif\" font-size=\"14.00\" fill=\"#000000\">value = [7, 1]</text>\n<text text-anchor=\"start\" x=\"143\" y=\"-587.8\" font-family=\"Helvetica,sans-Serif\" font-size=\"14.00\" fill=\"#000000\">class = yes</text>\n</g>\n<!-- 9&#45;&gt;10 -->\n<g id=\"edge10\" class=\"edge\">\n<title>9&#45;&gt;10</title>\n<path fill=\"none\" stroke=\"#000000\" d=\"M264.6826,-698.8796C254.4706,-689.6031 243.555,-679.6874 233.0624,-670.1559\"/>\n<polygon fill=\"#000000\" stroke=\"#000000\" points=\"235.2684,-667.4313 225.513,-663.2981 230.5616,-672.6127 235.2684,-667.4313\"/>\n</g>\n<!-- 15 -->\n<g id=\"node16\" class=\"node\">\n<title>15</title>\n<path fill=\"#e58139\" stroke=\"#000000\" d=\"M351,-655.5C351,-655.5 268,-655.5 268,-655.5 262,-655.5 256,-649.5 256,-643.5 256,-643.5 256,-599.5 256,-599.5 256,-593.5 262,-587.5 268,-587.5 268,-587.5 351,-587.5 351,-587.5 357,-587.5 363,-593.5 363,-599.5 363,-599.5 363,-643.5 363,-643.5 363,-649.5 357,-655.5 351,-655.5\"/>\n<text text-anchor=\"start\" x=\"280\" y=\"-640.3\" font-family=\"Helvetica,sans-Serif\" font-size=\"14.00\" fill=\"#000000\">gini = 0.0</text>\n<text text-anchor=\"start\" x=\"265.5\" y=\"-625.3\" font-family=\"Helvetica,sans-Serif\" font-size=\"14.00\" fill=\"#000000\">samples = 31</text>\n<text text-anchor=\"start\" x=\"264\" y=\"-610.3\" font-family=\"Helvetica,sans-Serif\" font-size=\"14.00\" fill=\"#000000\">value = [31, 0]</text>\n<text text-anchor=\"start\" x=\"273\" y=\"-595.3\" font-family=\"Helvetica,sans-Serif\" font-size=\"14.00\" fill=\"#000000\">class = yes</text>\n</g>\n<!-- 9&#45;&gt;15 -->\n<g id=\"edge15\" class=\"edge\">\n<title>9&#45;&gt;15</title>\n<path fill=\"none\" stroke=\"#000000\" d=\"M310.1502,-698.8796C310.0606,-688.2134 309.9639,-676.7021 309.8731,-665.9015\"/>\n<polygon fill=\"#000000\" stroke=\"#000000\" points=\"313.3724,-665.7851 309.7884,-655.8149 306.3726,-665.844 313.3724,-665.7851\"/>\n</g>\n<!-- 11 -->\n<g id=\"node12\" class=\"node\">\n<title>11</title>\n<path fill=\"#e58139\" stroke=\"#000000\" d=\"M87,-536.5C87,-536.5 12,-536.5 12,-536.5 6,-536.5 0,-530.5 0,-524.5 0,-524.5 0,-480.5 0,-480.5 0,-474.5 6,-468.5 12,-468.5 12,-468.5 87,-468.5 87,-468.5 93,-468.5 99,-474.5 99,-480.5 99,-480.5 99,-524.5 99,-524.5 99,-530.5 93,-536.5 87,-536.5\"/>\n<text text-anchor=\"start\" x=\"20\" y=\"-521.3\" font-family=\"Helvetica,sans-Serif\" font-size=\"14.00\" fill=\"#000000\">gini = 0.0</text>\n<text text-anchor=\"start\" x=\"10\" y=\"-506.3\" font-family=\"Helvetica,sans-Serif\" font-size=\"14.00\" fill=\"#000000\">samples = 6</text>\n<text text-anchor=\"start\" x=\"8\" y=\"-491.3\" font-family=\"Helvetica,sans-Serif\" font-size=\"14.00\" fill=\"#000000\">value = [6, 0]</text>\n<text text-anchor=\"start\" x=\"13\" y=\"-476.3\" font-family=\"Helvetica,sans-Serif\" font-size=\"14.00\" fill=\"#000000\">class = yes</text>\n</g>\n<!-- 10&#45;&gt;11 -->\n<g id=\"edge11\" class=\"edge\">\n<title>10&#45;&gt;11</title>\n<path fill=\"none\" stroke=\"#000000\" d=\"M134.0323,-579.8796C121.1789,-568.1138 107.2021,-555.3197 94.3834,-543.5855\"/>\n<polygon fill=\"#000000\" stroke=\"#000000\" points=\"96.7264,-540.9854 86.9869,-536.8149 91.9999,-546.1488 96.7264,-540.9854\"/>\n</g>\n<!-- 12 -->\n<g id=\"node13\" class=\"node\">\n<title>12</title>\n<path fill=\"#ffffff\" stroke=\"#000000\" d=\"M284,-544C284,-544 129,-544 129,-544 123,-544 117,-538 117,-532 117,-532 117,-473 117,-473 117,-467 123,-461 129,-461 129,-461 284,-461 284,-461 290,-461 296,-467 296,-473 296,-473 296,-532 296,-532 296,-538 290,-544 284,-544\"/>\n<text text-anchor=\"start\" x=\"125\" y=\"-528.8\" font-family=\"Helvetica,sans-Serif\" font-size=\"14.00\" fill=\"#000000\">EstimatedSalary ≤ &#45;0.242</text>\n<text text-anchor=\"start\" x=\"177\" y=\"-513.8\" font-family=\"Helvetica,sans-Serif\" font-size=\"14.00\" fill=\"#000000\">gini = 0.5</text>\n<text text-anchor=\"start\" x=\"167\" y=\"-498.8\" font-family=\"Helvetica,sans-Serif\" font-size=\"14.00\" fill=\"#000000\">samples = 2</text>\n<text text-anchor=\"start\" x=\"165\" y=\"-483.8\" font-family=\"Helvetica,sans-Serif\" font-size=\"14.00\" fill=\"#000000\">value = [1, 1]</text>\n<text text-anchor=\"start\" x=\"170\" y=\"-468.8\" font-family=\"Helvetica,sans-Serif\" font-size=\"14.00\" fill=\"#000000\">class = yes</text>\n</g>\n<!-- 10&#45;&gt;12 -->\n<g id=\"edge12\" class=\"edge\">\n<title>10&#45;&gt;12</title>\n<path fill=\"none\" stroke=\"#000000\" d=\"M188.9433,-579.8796C190.8233,-571.5938 192.8189,-562.798 194.7649,-554.2216\"/>\n<polygon fill=\"#000000\" stroke=\"#000000\" points=\"198.2169,-554.8247 197.0164,-544.2981 191.3904,-553.2757 198.2169,-554.8247\"/>\n</g>\n<!-- 13 -->\n<g id=\"node14\" class=\"node\">\n<title>13</title>\n<path fill=\"#e58139\" stroke=\"#000000\" d=\"M186,-417.5C186,-417.5 111,-417.5 111,-417.5 105,-417.5 99,-411.5 99,-405.5 99,-405.5 99,-361.5 99,-361.5 99,-355.5 105,-349.5 111,-349.5 111,-349.5 186,-349.5 186,-349.5 192,-349.5 198,-355.5 198,-361.5 198,-361.5 198,-405.5 198,-405.5 198,-411.5 192,-417.5 186,-417.5\"/>\n<text text-anchor=\"start\" x=\"119\" y=\"-402.3\" font-family=\"Helvetica,sans-Serif\" font-size=\"14.00\" fill=\"#000000\">gini = 0.0</text>\n<text text-anchor=\"start\" x=\"109\" y=\"-387.3\" font-family=\"Helvetica,sans-Serif\" font-size=\"14.00\" fill=\"#000000\">samples = 1</text>\n<text text-anchor=\"start\" x=\"107\" y=\"-372.3\" font-family=\"Helvetica,sans-Serif\" font-size=\"14.00\" fill=\"#000000\">value = [1, 0]</text>\n<text text-anchor=\"start\" x=\"112\" y=\"-357.3\" font-family=\"Helvetica,sans-Serif\" font-size=\"14.00\" fill=\"#000000\">class = yes</text>\n</g>\n<!-- 12&#45;&gt;13 -->\n<g id=\"edge13\" class=\"edge\">\n<title>12&#45;&gt;13</title>\n<path fill=\"none\" stroke=\"#000000\" d=\"M186.2144,-460.8796C180.855,-449.8835 175.0578,-437.9893 169.6537,-426.9015\"/>\n<polygon fill=\"#000000\" stroke=\"#000000\" points=\"172.7524,-425.2706 165.2249,-417.8149 166.46,-428.3375 172.7524,-425.2706\"/>\n</g>\n<!-- 14 -->\n<g id=\"node15\" class=\"node\">\n<title>14</title>\n<path fill=\"#399de5\" stroke=\"#000000\" d=\"M303,-417.5C303,-417.5 228,-417.5 228,-417.5 222,-417.5 216,-411.5 216,-405.5 216,-405.5 216,-361.5 216,-361.5 216,-355.5 222,-349.5 228,-349.5 228,-349.5 303,-349.5 303,-349.5 309,-349.5 315,-355.5 315,-361.5 315,-361.5 315,-405.5 315,-405.5 315,-411.5 309,-417.5 303,-417.5\"/>\n<text text-anchor=\"start\" x=\"236\" y=\"-402.3\" font-family=\"Helvetica,sans-Serif\" font-size=\"14.00\" fill=\"#000000\">gini = 0.0</text>\n<text text-anchor=\"start\" x=\"226\" y=\"-387.3\" font-family=\"Helvetica,sans-Serif\" font-size=\"14.00\" fill=\"#000000\">samples = 1</text>\n<text text-anchor=\"start\" x=\"224\" y=\"-372.3\" font-family=\"Helvetica,sans-Serif\" font-size=\"14.00\" fill=\"#000000\">value = [0, 1]</text>\n<text text-anchor=\"start\" x=\"232\" y=\"-357.3\" font-family=\"Helvetica,sans-Serif\" font-size=\"14.00\" fill=\"#000000\">class = no</text>\n</g>\n<!-- 12&#45;&gt;14 -->\n<g id=\"edge14\" class=\"edge\">\n<title>12&#45;&gt;14</title>\n<path fill=\"none\" stroke=\"#000000\" d=\"M227.1353,-460.8796C232.5872,-449.8835 238.4843,-437.9893 243.9816,-426.9015\"/>\n<polygon fill=\"#000000\" stroke=\"#000000\" points=\"247.1804,-428.3289 248.4867,-417.8149 240.9089,-425.2195 247.1804,-428.3289\"/>\n</g>\n<!-- 17 -->\n<g id=\"node18\" class=\"node\">\n<title>17</title>\n<path fill=\"#f6d5bd\" stroke=\"#000000\" d=\"M491.5,-663C491.5,-663 393.5,-663 393.5,-663 387.5,-663 381.5,-657 381.5,-651 381.5,-651 381.5,-592 381.5,-592 381.5,-586 387.5,-580 393.5,-580 393.5,-580 491.5,-580 491.5,-580 497.5,-580 503.5,-586 503.5,-592 503.5,-592 503.5,-651 503.5,-651 503.5,-657 497.5,-663 491.5,-663\"/>\n<text text-anchor=\"start\" x=\"389.5\" y=\"-647.8\" font-family=\"Helvetica,sans-Serif\" font-size=\"14.00\" fill=\"#000000\">User ID ≤ &#45;1.366</text>\n<text text-anchor=\"start\" x=\"409\" y=\"-632.8\" font-family=\"Helvetica,sans-Serif\" font-size=\"14.00\" fill=\"#000000\">gini = 0.48</text>\n<text text-anchor=\"start\" x=\"398.5\" y=\"-617.8\" font-family=\"Helvetica,sans-Serif\" font-size=\"14.00\" fill=\"#000000\">samples = 10</text>\n<text text-anchor=\"start\" x=\"401\" y=\"-602.8\" font-family=\"Helvetica,sans-Serif\" font-size=\"14.00\" fill=\"#000000\">value = [6, 4]</text>\n<text text-anchor=\"start\" x=\"406\" y=\"-587.8\" font-family=\"Helvetica,sans-Serif\" font-size=\"14.00\" fill=\"#000000\">class = yes</text>\n</g>\n<!-- 16&#45;&gt;17 -->\n<g id=\"edge17\" class=\"edge\">\n<title>16&#45;&gt;17</title>\n<path fill=\"none\" stroke=\"#000000\" d=\"M441.8498,-698.8796C441.9186,-690.6838 441.9917,-681.9891 442.063,-673.5013\"/>\n<polygon fill=\"#000000\" stroke=\"#000000\" points=\"445.5645,-673.3272 442.1488,-663.2981 438.5648,-673.2683 445.5645,-673.3272\"/>\n</g>\n<!-- 28 -->\n<g id=\"node29\" class=\"node\">\n<title>28</title>\n<path fill=\"#e58139\" stroke=\"#000000\" d=\"M609,-655.5C609,-655.5 534,-655.5 534,-655.5 528,-655.5 522,-649.5 522,-643.5 522,-643.5 522,-599.5 522,-599.5 522,-593.5 528,-587.5 534,-587.5 534,-587.5 609,-587.5 609,-587.5 615,-587.5 621,-593.5 621,-599.5 621,-599.5 621,-643.5 621,-643.5 621,-649.5 615,-655.5 609,-655.5\"/>\n<text text-anchor=\"start\" x=\"542\" y=\"-640.3\" font-family=\"Helvetica,sans-Serif\" font-size=\"14.00\" fill=\"#000000\">gini = 0.0</text>\n<text text-anchor=\"start\" x=\"532\" y=\"-625.3\" font-family=\"Helvetica,sans-Serif\" font-size=\"14.00\" fill=\"#000000\">samples = 9</text>\n<text text-anchor=\"start\" x=\"530\" y=\"-610.3\" font-family=\"Helvetica,sans-Serif\" font-size=\"14.00\" fill=\"#000000\">value = [9, 0]</text>\n<text text-anchor=\"start\" x=\"535\" y=\"-595.3\" font-family=\"Helvetica,sans-Serif\" font-size=\"14.00\" fill=\"#000000\">class = yes</text>\n</g>\n<!-- 16&#45;&gt;28 -->\n<g id=\"edge28\" class=\"edge\">\n<title>16&#45;&gt;28</title>\n<path fill=\"none\" stroke=\"#000000\" d=\"M486.9677,-698.8796C499.8211,-687.1138 513.7979,-674.3197 526.6166,-662.5855\"/>\n<polygon fill=\"#000000\" stroke=\"#000000\" points=\"529.0001,-665.1488 534.0131,-655.8149 524.2736,-659.9854 529.0001,-665.1488\"/>\n</g>\n<!-- 18 -->\n<g id=\"node19\" class=\"node\">\n<title>18</title>\n<path fill=\"#e58139\" stroke=\"#000000\" d=\"M454,-536.5C454,-536.5 379,-536.5 379,-536.5 373,-536.5 367,-530.5 367,-524.5 367,-524.5 367,-480.5 367,-480.5 367,-474.5 373,-468.5 379,-468.5 379,-468.5 454,-468.5 454,-468.5 460,-468.5 466,-474.5 466,-480.5 466,-480.5 466,-524.5 466,-524.5 466,-530.5 460,-536.5 454,-536.5\"/>\n<text text-anchor=\"start\" x=\"387\" y=\"-521.3\" font-family=\"Helvetica,sans-Serif\" font-size=\"14.00\" fill=\"#000000\">gini = 0.0</text>\n<text text-anchor=\"start\" x=\"377\" y=\"-506.3\" font-family=\"Helvetica,sans-Serif\" font-size=\"14.00\" fill=\"#000000\">samples = 3</text>\n<text text-anchor=\"start\" x=\"375\" y=\"-491.3\" font-family=\"Helvetica,sans-Serif\" font-size=\"14.00\" fill=\"#000000\">value = [3, 0]</text>\n<text text-anchor=\"start\" x=\"380\" y=\"-476.3\" font-family=\"Helvetica,sans-Serif\" font-size=\"14.00\" fill=\"#000000\">class = yes</text>\n</g>\n<!-- 17&#45;&gt;18 -->\n<g id=\"edge18\" class=\"edge\">\n<title>17&#45;&gt;18</title>\n<path fill=\"none\" stroke=\"#000000\" d=\"M433.4065,-579.8796C431.076,-569.2134 428.561,-557.7021 426.2012,-546.9015\"/>\n<polygon fill=\"#000000\" stroke=\"#000000\" points=\"429.5513,-545.8374 423.9974,-536.8149 422.7126,-547.3316 429.5513,-545.8374\"/>\n</g>\n<!-- 19 -->\n<g id=\"node20\" class=\"node\">\n<title>19</title>\n<path fill=\"#cee6f8\" stroke=\"#000000\" d=\"M571,-544C571,-544 496,-544 496,-544 490,-544 484,-538 484,-532 484,-532 484,-473 484,-473 484,-467 490,-461 496,-461 496,-461 571,-461 571,-461 577,-461 583,-467 583,-473 583,-473 583,-532 583,-532 583,-538 577,-544 571,-544\"/>\n<text text-anchor=\"start\" x=\"492\" y=\"-528.8\" font-family=\"Helvetica,sans-Serif\" font-size=\"14.00\" fill=\"#000000\">Age ≤ &#45;0.033</text>\n<text text-anchor=\"start\" x=\"500\" y=\"-513.8\" font-family=\"Helvetica,sans-Serif\" font-size=\"14.00\" fill=\"#000000\">gini = 0.49</text>\n<text text-anchor=\"start\" x=\"494\" y=\"-498.8\" font-family=\"Helvetica,sans-Serif\" font-size=\"14.00\" fill=\"#000000\">samples = 7</text>\n<text text-anchor=\"start\" x=\"492\" y=\"-483.8\" font-family=\"Helvetica,sans-Serif\" font-size=\"14.00\" fill=\"#000000\">value = [3, 4]</text>\n<text text-anchor=\"start\" x=\"500\" y=\"-468.8\" font-family=\"Helvetica,sans-Serif\" font-size=\"14.00\" fill=\"#000000\">class = no</text>\n</g>\n<!-- 17&#45;&gt;19 -->\n<g id=\"edge19\" class=\"edge\">\n<title>17&#45;&gt;19</title>\n<path fill=\"none\" stroke=\"#000000\" d=\"M474.3274,-579.8796C481.1457,-570.9633 488.4156,-561.4565 495.4421,-552.268\"/>\n<polygon fill=\"#000000\" stroke=\"#000000\" points=\"498.2425,-554.3678 501.5368,-544.2981 492.682,-550.1156 498.2425,-554.3678\"/>\n</g>\n<!-- 20 -->\n<g id=\"node21\" class=\"node\">\n<title>20</title>\n<path fill=\"#399de5\" stroke=\"#000000\" d=\"M551,-417.5C551,-417.5 476,-417.5 476,-417.5 470,-417.5 464,-411.5 464,-405.5 464,-405.5 464,-361.5 464,-361.5 464,-355.5 470,-349.5 476,-349.5 476,-349.5 551,-349.5 551,-349.5 557,-349.5 563,-355.5 563,-361.5 563,-361.5 563,-405.5 563,-405.5 563,-411.5 557,-417.5 551,-417.5\"/>\n<text text-anchor=\"start\" x=\"484\" y=\"-402.3\" font-family=\"Helvetica,sans-Serif\" font-size=\"14.00\" fill=\"#000000\">gini = 0.0</text>\n<text text-anchor=\"start\" x=\"474\" y=\"-387.3\" font-family=\"Helvetica,sans-Serif\" font-size=\"14.00\" fill=\"#000000\">samples = 2</text>\n<text text-anchor=\"start\" x=\"472\" y=\"-372.3\" font-family=\"Helvetica,sans-Serif\" font-size=\"14.00\" fill=\"#000000\">value = [0, 2]</text>\n<text text-anchor=\"start\" x=\"480\" y=\"-357.3\" font-family=\"Helvetica,sans-Serif\" font-size=\"14.00\" fill=\"#000000\">class = no</text>\n</g>\n<!-- 19&#45;&gt;20 -->\n<g id=\"edge20\" class=\"edge\">\n<title>19&#45;&gt;20</title>\n<path fill=\"none\" stroke=\"#000000\" d=\"M526.505,-460.8796C524.7123,-450.2134 522.7777,-438.7021 520.9624,-427.9015\"/>\n<polygon fill=\"#000000\" stroke=\"#000000\" points=\"524.3763,-427.0965 519.2672,-417.8149 517.4731,-428.2568 524.3763,-427.0965\"/>\n</g>\n<!-- 21 -->\n<g id=\"node22\" class=\"node\">\n<title>21</title>\n<path fill=\"#f6d5bd\" stroke=\"#000000\" d=\"M743.5,-425C743.5,-425 593.5,-425 593.5,-425 587.5,-425 581.5,-419 581.5,-413 581.5,-413 581.5,-354 581.5,-354 581.5,-348 587.5,-342 593.5,-342 593.5,-342 743.5,-342 743.5,-342 749.5,-342 755.5,-348 755.5,-354 755.5,-354 755.5,-413 755.5,-413 755.5,-419 749.5,-425 743.5,-425\"/>\n<text text-anchor=\"start\" x=\"589.5\" y=\"-409.8\" font-family=\"Helvetica,sans-Serif\" font-size=\"14.00\" fill=\"#000000\">EstimatedSalary ≤ 0.185</text>\n<text text-anchor=\"start\" x=\"635\" y=\"-394.8\" font-family=\"Helvetica,sans-Serif\" font-size=\"14.00\" fill=\"#000000\">gini = 0.48</text>\n<text text-anchor=\"start\" x=\"629\" y=\"-379.8\" font-family=\"Helvetica,sans-Serif\" font-size=\"14.00\" fill=\"#000000\">samples = 5</text>\n<text text-anchor=\"start\" x=\"627\" y=\"-364.8\" font-family=\"Helvetica,sans-Serif\" font-size=\"14.00\" fill=\"#000000\">value = [3, 2]</text>\n<text text-anchor=\"start\" x=\"632\" y=\"-349.8\" font-family=\"Helvetica,sans-Serif\" font-size=\"14.00\" fill=\"#000000\">class = yes</text>\n</g>\n<!-- 19&#45;&gt;21 -->\n<g id=\"edge21\" class=\"edge\">\n<title>19&#45;&gt;21</title>\n<path fill=\"none\" stroke=\"#000000\" d=\"M580.7164,-460.8796C591.2402,-451.6031 602.4891,-441.6874 613.3021,-432.1559\"/>\n<polygon fill=\"#000000\" stroke=\"#000000\" points=\"615.8948,-434.5362 621.082,-425.2981 611.266,-429.2851 615.8948,-434.5362\"/>\n</g>\n<!-- 22 -->\n<g id=\"node23\" class=\"node\">\n<title>22</title>\n<path fill=\"#9ccef2\" stroke=\"#000000\" d=\"M666.5,-306C666.5,-306 516.5,-306 516.5,-306 510.5,-306 504.5,-300 504.5,-294 504.5,-294 504.5,-235 504.5,-235 504.5,-229 510.5,-223 516.5,-223 516.5,-223 666.5,-223 666.5,-223 672.5,-223 678.5,-229 678.5,-235 678.5,-235 678.5,-294 678.5,-294 678.5,-300 672.5,-306 666.5,-306\"/>\n<text text-anchor=\"start\" x=\"512.5\" y=\"-290.8\" font-family=\"Helvetica,sans-Serif\" font-size=\"14.00\" fill=\"#000000\">EstimatedSalary ≤ 0.097</text>\n<text text-anchor=\"start\" x=\"553.5\" y=\"-275.8\" font-family=\"Helvetica,sans-Serif\" font-size=\"14.00\" fill=\"#000000\">gini = 0.444</text>\n<text text-anchor=\"start\" x=\"552\" y=\"-260.8\" font-family=\"Helvetica,sans-Serif\" font-size=\"14.00\" fill=\"#000000\">samples = 3</text>\n<text text-anchor=\"start\" x=\"550\" y=\"-245.8\" font-family=\"Helvetica,sans-Serif\" font-size=\"14.00\" fill=\"#000000\">value = [1, 2]</text>\n<text text-anchor=\"start\" x=\"558\" y=\"-230.8\" font-family=\"Helvetica,sans-Serif\" font-size=\"14.00\" fill=\"#000000\">class = no</text>\n</g>\n<!-- 21&#45;&gt;22 -->\n<g id=\"edge22\" class=\"edge\">\n<title>21&#45;&gt;22</title>\n<path fill=\"none\" stroke=\"#000000\" d=\"M641.5691,-341.8796C635.9163,-333.1434 629.8967,-323.8404 624.0634,-314.8253\"/>\n<polygon fill=\"#000000\" stroke=\"#000000\" points=\"626.9169,-312.7924 618.5458,-306.2981 621.0399,-316.5952 626.9169,-312.7924\"/>\n</g>\n<!-- 27 -->\n<g id=\"node28\" class=\"node\">\n<title>27</title>\n<path fill=\"#e58139\" stroke=\"#000000\" d=\"M784,-298.5C784,-298.5 709,-298.5 709,-298.5 703,-298.5 697,-292.5 697,-286.5 697,-286.5 697,-242.5 697,-242.5 697,-236.5 703,-230.5 709,-230.5 709,-230.5 784,-230.5 784,-230.5 790,-230.5 796,-236.5 796,-242.5 796,-242.5 796,-286.5 796,-286.5 796,-292.5 790,-298.5 784,-298.5\"/>\n<text text-anchor=\"start\" x=\"717\" y=\"-283.3\" font-family=\"Helvetica,sans-Serif\" font-size=\"14.00\" fill=\"#000000\">gini = 0.0</text>\n<text text-anchor=\"start\" x=\"707\" y=\"-268.3\" font-family=\"Helvetica,sans-Serif\" font-size=\"14.00\" fill=\"#000000\">samples = 2</text>\n<text text-anchor=\"start\" x=\"705\" y=\"-253.3\" font-family=\"Helvetica,sans-Serif\" font-size=\"14.00\" fill=\"#000000\">value = [2, 0]</text>\n<text text-anchor=\"start\" x=\"710\" y=\"-238.3\" font-family=\"Helvetica,sans-Serif\" font-size=\"14.00\" fill=\"#000000\">class = yes</text>\n</g>\n<!-- 21&#45;&gt;27 -->\n<g id=\"edge27\" class=\"edge\">\n<title>21&#45;&gt;27</title>\n<path fill=\"none\" stroke=\"#000000\" d=\"M695.7806,-341.8796C703.1323,-330.6636 711.0964,-318.5131 718.4874,-307.2372\"/>\n<polygon fill=\"#000000\" stroke=\"#000000\" points=\"721.4531,-309.0972 724.0079,-298.8149 715.5986,-305.2598 721.4531,-309.0972\"/>\n</g>\n<!-- 23 -->\n<g id=\"node24\" class=\"node\">\n<title>23</title>\n<path fill=\"#ffffff\" stroke=\"#000000\" d=\"M571,-187C571,-187 496,-187 496,-187 490,-187 484,-181 484,-175 484,-175 484,-116 484,-116 484,-110 490,-104 496,-104 496,-104 571,-104 571,-104 577,-104 583,-110 583,-116 583,-116 583,-175 583,-175 583,-181 577,-187 571,-187\"/>\n<text text-anchor=\"start\" x=\"494\" y=\"-171.8\" font-family=\"Helvetica,sans-Serif\" font-size=\"14.00\" fill=\"#000000\">Age ≤ 0.255</text>\n<text text-anchor=\"start\" x=\"504\" y=\"-156.8\" font-family=\"Helvetica,sans-Serif\" font-size=\"14.00\" fill=\"#000000\">gini = 0.5</text>\n<text text-anchor=\"start\" x=\"494\" y=\"-141.8\" font-family=\"Helvetica,sans-Serif\" font-size=\"14.00\" fill=\"#000000\">samples = 2</text>\n<text text-anchor=\"start\" x=\"492\" y=\"-126.8\" font-family=\"Helvetica,sans-Serif\" font-size=\"14.00\" fill=\"#000000\">value = [1, 1]</text>\n<text text-anchor=\"start\" x=\"497\" y=\"-111.8\" font-family=\"Helvetica,sans-Serif\" font-size=\"14.00\" fill=\"#000000\">class = yes</text>\n</g>\n<!-- 22&#45;&gt;23 -->\n<g id=\"edge23\" class=\"edge\">\n<title>22&#45;&gt;23</title>\n<path fill=\"none\" stroke=\"#000000\" d=\"M571.2144,-222.8796C567.0443,-214.3236 562.6091,-205.2238 558.3003,-196.3833\"/>\n<polygon fill=\"#000000\" stroke=\"#000000\" points=\"561.3997,-194.7538 553.8722,-187.2981 555.1073,-197.8207 561.3997,-194.7538\"/>\n</g>\n<!-- 26 -->\n<g id=\"node27\" class=\"node\">\n<title>26</title>\n<path fill=\"#399de5\" stroke=\"#000000\" d=\"M688,-179.5C688,-179.5 613,-179.5 613,-179.5 607,-179.5 601,-173.5 601,-167.5 601,-167.5 601,-123.5 601,-123.5 601,-117.5 607,-111.5 613,-111.5 613,-111.5 688,-111.5 688,-111.5 694,-111.5 700,-117.5 700,-123.5 700,-123.5 700,-167.5 700,-167.5 700,-173.5 694,-179.5 688,-179.5\"/>\n<text text-anchor=\"start\" x=\"621\" y=\"-164.3\" font-family=\"Helvetica,sans-Serif\" font-size=\"14.00\" fill=\"#000000\">gini = 0.0</text>\n<text text-anchor=\"start\" x=\"611\" y=\"-149.3\" font-family=\"Helvetica,sans-Serif\" font-size=\"14.00\" fill=\"#000000\">samples = 1</text>\n<text text-anchor=\"start\" x=\"609\" y=\"-134.3\" font-family=\"Helvetica,sans-Serif\" font-size=\"14.00\" fill=\"#000000\">value = [0, 1]</text>\n<text text-anchor=\"start\" x=\"617\" y=\"-119.3\" font-family=\"Helvetica,sans-Serif\" font-size=\"14.00\" fill=\"#000000\">class = no</text>\n</g>\n<!-- 22&#45;&gt;26 -->\n<g id=\"edge26\" class=\"edge\">\n<title>22&#45;&gt;26</title>\n<path fill=\"none\" stroke=\"#000000\" d=\"M612.1353,-222.8796C617.5872,-211.8835 623.4843,-199.9893 628.9816,-188.9015\"/>\n<polygon fill=\"#000000\" stroke=\"#000000\" points=\"632.1804,-190.3289 633.4867,-179.8149 625.9089,-187.2195 632.1804,-190.3289\"/>\n</g>\n<!-- 24 -->\n<g id=\"node25\" class=\"node\">\n<title>24</title>\n<path fill=\"#e58139\" stroke=\"#000000\" d=\"M513,-68C513,-68 438,-68 438,-68 432,-68 426,-62 426,-56 426,-56 426,-12 426,-12 426,-6 432,0 438,0 438,0 513,0 513,0 519,0 525,-6 525,-12 525,-12 525,-56 525,-56 525,-62 519,-68 513,-68\"/>\n<text text-anchor=\"start\" x=\"446\" y=\"-52.8\" font-family=\"Helvetica,sans-Serif\" font-size=\"14.00\" fill=\"#000000\">gini = 0.0</text>\n<text text-anchor=\"start\" x=\"436\" y=\"-37.8\" font-family=\"Helvetica,sans-Serif\" font-size=\"14.00\" fill=\"#000000\">samples = 1</text>\n<text text-anchor=\"start\" x=\"434\" y=\"-22.8\" font-family=\"Helvetica,sans-Serif\" font-size=\"14.00\" fill=\"#000000\">value = [1, 0]</text>\n<text text-anchor=\"start\" x=\"439\" y=\"-7.8\" font-family=\"Helvetica,sans-Serif\" font-size=\"14.00\" fill=\"#000000\">class = yes</text>\n</g>\n<!-- 23&#45;&gt;24 -->\n<g id=\"edge24\" class=\"edge\">\n<title>23&#45;&gt;24</title>\n<path fill=\"none\" stroke=\"#000000\" d=\"M511.9029,-103.9815C507.3612,-95.2504 502.5598,-86.0202 497.9863,-77.2281\"/>\n<polygon fill=\"#000000\" stroke=\"#000000\" points=\"501.0431,-75.52 493.3233,-68.2637 494.8331,-78.7504 501.0431,-75.52\"/>\n</g>\n<!-- 25 -->\n<g id=\"node26\" class=\"node\">\n<title>25</title>\n<path fill=\"#399de5\" stroke=\"#000000\" d=\"M630,-68C630,-68 555,-68 555,-68 549,-68 543,-62 543,-56 543,-56 543,-12 543,-12 543,-6 549,0 555,0 555,0 630,0 630,0 636,0 642,-6 642,-12 642,-12 642,-56 642,-56 642,-62 636,-68 630,-68\"/>\n<text text-anchor=\"start\" x=\"563\" y=\"-52.8\" font-family=\"Helvetica,sans-Serif\" font-size=\"14.00\" fill=\"#000000\">gini = 0.0</text>\n<text text-anchor=\"start\" x=\"553\" y=\"-37.8\" font-family=\"Helvetica,sans-Serif\" font-size=\"14.00\" fill=\"#000000\">samples = 1</text>\n<text text-anchor=\"start\" x=\"551\" y=\"-22.8\" font-family=\"Helvetica,sans-Serif\" font-size=\"14.00\" fill=\"#000000\">value = [0, 1]</text>\n<text text-anchor=\"start\" x=\"559\" y=\"-7.8\" font-family=\"Helvetica,sans-Serif\" font-size=\"14.00\" fill=\"#000000\">class = no</text>\n</g>\n<!-- 23&#45;&gt;25 -->\n<g id=\"edge25\" class=\"edge\">\n<title>23&#45;&gt;25</title>\n<path fill=\"none\" stroke=\"#000000\" d=\"M555.4694,-103.9815C560.0895,-95.2504 564.9736,-86.0202 569.626,-77.2281\"/>\n<polygon fill=\"#000000\" stroke=\"#000000\" points=\"572.7859,-78.7395 574.3694,-68.2637 566.5987,-75.4655 572.7859,-78.7395\"/>\n</g>\n<!-- 30 -->\n<g id=\"node31\" class=\"node\">\n<title>30</title>\n<path fill=\"#94caf1\" stroke=\"#000000\" d=\"M823.5,-1020C823.5,-1020 673.5,-1020 673.5,-1020 667.5,-1020 661.5,-1014 661.5,-1008 661.5,-1008 661.5,-949 661.5,-949 661.5,-943 667.5,-937 673.5,-937 673.5,-937 823.5,-937 823.5,-937 829.5,-937 835.5,-943 835.5,-949 835.5,-949 835.5,-1008 835.5,-1008 835.5,-1014 829.5,-1020 823.5,-1020\"/>\n<text text-anchor=\"start\" x=\"669.5\" y=\"-1004.8\" font-family=\"Helvetica,sans-Serif\" font-size=\"14.00\" fill=\"#000000\">EstimatedSalary ≤ 1.157</text>\n<text text-anchor=\"start\" x=\"710.5\" y=\"-989.8\" font-family=\"Helvetica,sans-Serif\" font-size=\"14.00\" fill=\"#000000\">gini = 0.432</text>\n<text text-anchor=\"start\" x=\"704.5\" y=\"-974.8\" font-family=\"Helvetica,sans-Serif\" font-size=\"14.00\" fill=\"#000000\">samples = 19</text>\n<text text-anchor=\"start\" x=\"703\" y=\"-959.8\" font-family=\"Helvetica,sans-Serif\" font-size=\"14.00\" fill=\"#000000\">value = [6, 13]</text>\n<text text-anchor=\"start\" x=\"715\" y=\"-944.8\" font-family=\"Helvetica,sans-Serif\" font-size=\"14.00\" fill=\"#000000\">class = no</text>\n</g>\n<!-- 29&#45;&gt;30 -->\n<g id=\"edge30\" class=\"edge\">\n<title>29&#45;&gt;30</title>\n<path fill=\"none\" stroke=\"#000000\" d=\"M799.8696,-1055.8796C794.07,-1047.1434 787.8941,-1037.8404 781.9092,-1028.8253\"/>\n<polygon fill=\"#000000\" stroke=\"#000000\" points=\"784.6951,-1026.6935 776.2483,-1020.2981 778.8632,-1030.5652 784.6951,-1026.6935\"/>\n</g>\n<!-- 39 -->\n<g id=\"node40\" class=\"node\">\n<title>39</title>\n<path fill=\"#399de5\" stroke=\"#000000\" d=\"M949,-1012.5C949,-1012.5 866,-1012.5 866,-1012.5 860,-1012.5 854,-1006.5 854,-1000.5 854,-1000.5 854,-956.5 854,-956.5 854,-950.5 860,-944.5 866,-944.5 866,-944.5 949,-944.5 949,-944.5 955,-944.5 961,-950.5 961,-956.5 961,-956.5 961,-1000.5 961,-1000.5 961,-1006.5 955,-1012.5 949,-1012.5\"/>\n<text text-anchor=\"start\" x=\"878\" y=\"-997.3\" font-family=\"Helvetica,sans-Serif\" font-size=\"14.00\" fill=\"#000000\">gini = 0.0</text>\n<text text-anchor=\"start\" x=\"863.5\" y=\"-982.3\" font-family=\"Helvetica,sans-Serif\" font-size=\"14.00\" fill=\"#000000\">samples = 17</text>\n<text text-anchor=\"start\" x=\"862\" y=\"-967.3\" font-family=\"Helvetica,sans-Serif\" font-size=\"14.00\" fill=\"#000000\">value = [0, 17]</text>\n<text text-anchor=\"start\" x=\"874\" y=\"-952.3\" font-family=\"Helvetica,sans-Serif\" font-size=\"14.00\" fill=\"#000000\">class = no</text>\n</g>\n<!-- 29&#45;&gt;39 -->\n<g id=\"edge39\" class=\"edge\">\n<title>29&#45;&gt;39</title>\n<path fill=\"none\" stroke=\"#000000\" d=\"M855.4801,-1055.8796C863.0203,-1044.6636 871.1887,-1032.5131 878.7691,-1021.2372\"/>\n<polygon fill=\"#000000\" stroke=\"#000000\" points=\"881.7566,-1023.0667 884.4311,-1012.8149 875.9473,-1019.1612 881.7566,-1023.0667\"/>\n</g>\n<!-- 31 -->\n<g id=\"node32\" class=\"node\">\n<title>31</title>\n<path fill=\"#4ba6e7\" stroke=\"#000000\" d=\"M724,-901C724,-901 641,-901 641,-901 635,-901 629,-895 629,-889 629,-889 629,-830 629,-830 629,-824 635,-818 641,-818 641,-818 724,-818 724,-818 730,-818 736,-824 736,-830 736,-830 736,-889 736,-889 736,-895 730,-901 724,-901\"/>\n<text text-anchor=\"start\" x=\"641\" y=\"-885.8\" font-family=\"Helvetica,sans-Serif\" font-size=\"14.00\" fill=\"#000000\">Age ≤ &#45;0.995</text>\n<text text-anchor=\"start\" x=\"644.5\" y=\"-870.8\" font-family=\"Helvetica,sans-Serif\" font-size=\"14.00\" fill=\"#000000\">gini = 0.153</text>\n<text text-anchor=\"start\" x=\"638.5\" y=\"-855.8\" font-family=\"Helvetica,sans-Serif\" font-size=\"14.00\" fill=\"#000000\">samples = 12</text>\n<text text-anchor=\"start\" x=\"637\" y=\"-840.8\" font-family=\"Helvetica,sans-Serif\" font-size=\"14.00\" fill=\"#000000\">value = [1, 11]</text>\n<text text-anchor=\"start\" x=\"649\" y=\"-825.8\" font-family=\"Helvetica,sans-Serif\" font-size=\"14.00\" fill=\"#000000\">class = no</text>\n</g>\n<!-- 30&#45;&gt;31 -->\n<g id=\"edge31\" class=\"edge\">\n<title>30&#45;&gt;31</title>\n<path fill=\"none\" stroke=\"#000000\" d=\"M725.4164,-936.8796C720.6211,-928.2335 715.5178,-919.0322 710.5662,-910.1042\"/>\n<polygon fill=\"#000000\" stroke=\"#000000\" points=\"713.5931,-908.3455 705.6821,-901.2981 707.4716,-911.7407 713.5931,-908.3455\"/>\n</g>\n<!-- 34 -->\n<g id=\"node35\" class=\"node\">\n<title>34</title>\n<path fill=\"#efb388\" stroke=\"#000000\" d=\"M864.5,-901C864.5,-901 766.5,-901 766.5,-901 760.5,-901 754.5,-895 754.5,-889 754.5,-889 754.5,-830 754.5,-830 754.5,-824 760.5,-818 766.5,-818 766.5,-818 864.5,-818 864.5,-818 870.5,-818 876.5,-824 876.5,-830 876.5,-830 876.5,-889 876.5,-889 876.5,-895 870.5,-901 864.5,-901\"/>\n<text text-anchor=\"start\" x=\"762.5\" y=\"-885.8\" font-family=\"Helvetica,sans-Serif\" font-size=\"14.00\" fill=\"#000000\">User ID ≤ &#45;0.652</text>\n<text text-anchor=\"start\" x=\"777.5\" y=\"-870.8\" font-family=\"Helvetica,sans-Serif\" font-size=\"14.00\" fill=\"#000000\">gini = 0.408</text>\n<text text-anchor=\"start\" x=\"776\" y=\"-855.8\" font-family=\"Helvetica,sans-Serif\" font-size=\"14.00\" fill=\"#000000\">samples = 7</text>\n<text text-anchor=\"start\" x=\"774\" y=\"-840.8\" font-family=\"Helvetica,sans-Serif\" font-size=\"14.00\" fill=\"#000000\">value = [5, 2]</text>\n<text text-anchor=\"start\" x=\"779\" y=\"-825.8\" font-family=\"Helvetica,sans-Serif\" font-size=\"14.00\" fill=\"#000000\">class = yes</text>\n</g>\n<!-- 30&#45;&gt;34 -->\n<g id=\"edge34\" class=\"edge\">\n<title>30&#45;&gt;34</title>\n<path fill=\"none\" stroke=\"#000000\" d=\"M771.9333,-936.8796C776.8013,-928.2335 781.9819,-919.0322 787.0086,-910.1042\"/>\n<polygon fill=\"#000000\" stroke=\"#000000\" points=\"790.1103,-911.729 791.9666,-901.2981 784.0107,-908.2947 790.1103,-911.729\"/>\n</g>\n<!-- 32 -->\n<g id=\"node33\" class=\"node\">\n<title>32</title>\n<path fill=\"#e58139\" stroke=\"#000000\" d=\"M605,-774.5C605,-774.5 530,-774.5 530,-774.5 524,-774.5 518,-768.5 518,-762.5 518,-762.5 518,-718.5 518,-718.5 518,-712.5 524,-706.5 530,-706.5 530,-706.5 605,-706.5 605,-706.5 611,-706.5 617,-712.5 617,-718.5 617,-718.5 617,-762.5 617,-762.5 617,-768.5 611,-774.5 605,-774.5\"/>\n<text text-anchor=\"start\" x=\"538\" y=\"-759.3\" font-family=\"Helvetica,sans-Serif\" font-size=\"14.00\" fill=\"#000000\">gini = 0.0</text>\n<text text-anchor=\"start\" x=\"528\" y=\"-744.3\" font-family=\"Helvetica,sans-Serif\" font-size=\"14.00\" fill=\"#000000\">samples = 1</text>\n<text text-anchor=\"start\" x=\"526\" y=\"-729.3\" font-family=\"Helvetica,sans-Serif\" font-size=\"14.00\" fill=\"#000000\">value = [1, 0]</text>\n<text text-anchor=\"start\" x=\"531\" y=\"-714.3\" font-family=\"Helvetica,sans-Serif\" font-size=\"14.00\" fill=\"#000000\">class = yes</text>\n</g>\n<!-- 31&#45;&gt;32 -->\n<g id=\"edge32\" class=\"edge\">\n<title>31&#45;&gt;32</title>\n<path fill=\"none\" stroke=\"#000000\" d=\"M642.2786,-817.8796C631.1208,-806.3337 619.0061,-793.7976 607.8414,-782.2446\"/>\n<polygon fill=\"#000000\" stroke=\"#000000\" points=\"610.1275,-779.5736 600.6615,-774.8149 605.0939,-784.4381 610.1275,-779.5736\"/>\n</g>\n<!-- 33 -->\n<g id=\"node34\" class=\"node\">\n<title>33</title>\n<path fill=\"#399de5\" stroke=\"#000000\" d=\"M730,-774.5C730,-774.5 647,-774.5 647,-774.5 641,-774.5 635,-768.5 635,-762.5 635,-762.5 635,-718.5 635,-718.5 635,-712.5 641,-706.5 647,-706.5 647,-706.5 730,-706.5 730,-706.5 736,-706.5 742,-712.5 742,-718.5 742,-718.5 742,-762.5 742,-762.5 742,-768.5 736,-774.5 730,-774.5\"/>\n<text text-anchor=\"start\" x=\"659\" y=\"-759.3\" font-family=\"Helvetica,sans-Serif\" font-size=\"14.00\" fill=\"#000000\">gini = 0.0</text>\n<text text-anchor=\"start\" x=\"644.5\" y=\"-744.3\" font-family=\"Helvetica,sans-Serif\" font-size=\"14.00\" fill=\"#000000\">samples = 11</text>\n<text text-anchor=\"start\" x=\"643\" y=\"-729.3\" font-family=\"Helvetica,sans-Serif\" font-size=\"14.00\" fill=\"#000000\">value = [0, 11]</text>\n<text text-anchor=\"start\" x=\"655\" y=\"-714.3\" font-family=\"Helvetica,sans-Serif\" font-size=\"14.00\" fill=\"#000000\">class = no</text>\n</g>\n<!-- 31&#45;&gt;33 -->\n<g id=\"edge33\" class=\"edge\">\n<title>31&#45;&gt;33</title>\n<path fill=\"none\" stroke=\"#000000\" d=\"M684.5985,-817.8796C685.1363,-807.2134 685.7167,-795.7021 686.2613,-784.9015\"/>\n<polygon fill=\"#000000\" stroke=\"#000000\" points=\"689.7617,-784.9785 686.7698,-774.8149 682.7706,-784.626 689.7617,-784.9785\"/>\n</g>\n<!-- 35 -->\n<g id=\"node36\" class=\"node\">\n<title>35</title>\n<path fill=\"#e58139\" stroke=\"#000000\" d=\"M847,-774.5C847,-774.5 772,-774.5 772,-774.5 766,-774.5 760,-768.5 760,-762.5 760,-762.5 760,-718.5 760,-718.5 760,-712.5 766,-706.5 772,-706.5 772,-706.5 847,-706.5 847,-706.5 853,-706.5 859,-712.5 859,-718.5 859,-718.5 859,-762.5 859,-762.5 859,-768.5 853,-774.5 847,-774.5\"/>\n<text text-anchor=\"start\" x=\"780\" y=\"-759.3\" font-family=\"Helvetica,sans-Serif\" font-size=\"14.00\" fill=\"#000000\">gini = 0.0</text>\n<text text-anchor=\"start\" x=\"770\" y=\"-744.3\" font-family=\"Helvetica,sans-Serif\" font-size=\"14.00\" fill=\"#000000\">samples = 3</text>\n<text text-anchor=\"start\" x=\"768\" y=\"-729.3\" font-family=\"Helvetica,sans-Serif\" font-size=\"14.00\" fill=\"#000000\">value = [3, 0]</text>\n<text text-anchor=\"start\" x=\"773\" y=\"-714.3\" font-family=\"Helvetica,sans-Serif\" font-size=\"14.00\" fill=\"#000000\">class = yes</text>\n</g>\n<!-- 34&#45;&gt;35 -->\n<g id=\"edge35\" class=\"edge\">\n<title>34&#45;&gt;35</title>\n<path fill=\"none\" stroke=\"#000000\" d=\"M813.4015,-817.8796C812.8637,-807.2134 812.2833,-795.7021 811.7387,-784.9015\"/>\n<polygon fill=\"#000000\" stroke=\"#000000\" points=\"815.2294,-784.626 811.2302,-774.8149 808.2383,-784.9785 815.2294,-784.626\"/>\n</g>\n<!-- 36 -->\n<g id=\"node37\" class=\"node\">\n<title>36</title>\n<path fill=\"#ffffff\" stroke=\"#000000\" d=\"M982,-782C982,-782 889,-782 889,-782 883,-782 877,-776 877,-770 877,-770 877,-711 877,-711 877,-705 883,-699 889,-699 889,-699 982,-699 982,-699 988,-699 994,-705 994,-711 994,-711 994,-770 994,-770 994,-776 988,-782 982,-782\"/>\n<text text-anchor=\"start\" x=\"885\" y=\"-766.8\" font-family=\"Helvetica,sans-Serif\" font-size=\"14.00\" fill=\"#000000\">User ID ≤ 0.661</text>\n<text text-anchor=\"start\" x=\"906\" y=\"-751.8\" font-family=\"Helvetica,sans-Serif\" font-size=\"14.00\" fill=\"#000000\">gini = 0.5</text>\n<text text-anchor=\"start\" x=\"896\" y=\"-736.8\" font-family=\"Helvetica,sans-Serif\" font-size=\"14.00\" fill=\"#000000\">samples = 4</text>\n<text text-anchor=\"start\" x=\"894\" y=\"-721.8\" font-family=\"Helvetica,sans-Serif\" font-size=\"14.00\" fill=\"#000000\">value = [2, 2]</text>\n<text text-anchor=\"start\" x=\"899\" y=\"-706.8\" font-family=\"Helvetica,sans-Serif\" font-size=\"14.00\" fill=\"#000000\">class = yes</text>\n</g>\n<!-- 34&#45;&gt;36 -->\n<g id=\"edge36\" class=\"edge\">\n<title>34&#45;&gt;36</title>\n<path fill=\"none\" stroke=\"#000000\" d=\"M857.4702,-817.8796C866.7338,-808.6931 876.6296,-798.8798 886.1552,-789.4336\"/>\n<polygon fill=\"#000000\" stroke=\"#000000\" points=\"888.7146,-791.8247 893.3507,-782.2981 883.7856,-786.8543 888.7146,-791.8247\"/>\n</g>\n<!-- 37 -->\n<g id=\"node38\" class=\"node\">\n<title>37</title>\n<path fill=\"#399de5\" stroke=\"#000000\" d=\"M915,-655.5C915,-655.5 840,-655.5 840,-655.5 834,-655.5 828,-649.5 828,-643.5 828,-643.5 828,-599.5 828,-599.5 828,-593.5 834,-587.5 840,-587.5 840,-587.5 915,-587.5 915,-587.5 921,-587.5 927,-593.5 927,-599.5 927,-599.5 927,-643.5 927,-643.5 927,-649.5 921,-655.5 915,-655.5\"/>\n<text text-anchor=\"start\" x=\"848\" y=\"-640.3\" font-family=\"Helvetica,sans-Serif\" font-size=\"14.00\" fill=\"#000000\">gini = 0.0</text>\n<text text-anchor=\"start\" x=\"838\" y=\"-625.3\" font-family=\"Helvetica,sans-Serif\" font-size=\"14.00\" fill=\"#000000\">samples = 2</text>\n<text text-anchor=\"start\" x=\"836\" y=\"-610.3\" font-family=\"Helvetica,sans-Serif\" font-size=\"14.00\" fill=\"#000000\">value = [0, 2]</text>\n<text text-anchor=\"start\" x=\"844\" y=\"-595.3\" font-family=\"Helvetica,sans-Serif\" font-size=\"14.00\" fill=\"#000000\">class = no</text>\n</g>\n<!-- 36&#45;&gt;37 -->\n<g id=\"edge37\" class=\"edge\">\n<title>36&#45;&gt;37</title>\n<path fill=\"none\" stroke=\"#000000\" d=\"M915.2144,-698.8796C909.855,-687.8835 904.0578,-675.9893 898.6537,-664.9015\"/>\n<polygon fill=\"#000000\" stroke=\"#000000\" points=\"901.7524,-663.2706 894.2249,-655.8149 895.46,-666.3375 901.7524,-663.2706\"/>\n</g>\n<!-- 38 -->\n<g id=\"node39\" class=\"node\">\n<title>38</title>\n<path fill=\"#e58139\" stroke=\"#000000\" d=\"M1032,-655.5C1032,-655.5 957,-655.5 957,-655.5 951,-655.5 945,-649.5 945,-643.5 945,-643.5 945,-599.5 945,-599.5 945,-593.5 951,-587.5 957,-587.5 957,-587.5 1032,-587.5 1032,-587.5 1038,-587.5 1044,-593.5 1044,-599.5 1044,-599.5 1044,-643.5 1044,-643.5 1044,-649.5 1038,-655.5 1032,-655.5\"/>\n<text text-anchor=\"start\" x=\"965\" y=\"-640.3\" font-family=\"Helvetica,sans-Serif\" font-size=\"14.00\" fill=\"#000000\">gini = 0.0</text>\n<text text-anchor=\"start\" x=\"955\" y=\"-625.3\" font-family=\"Helvetica,sans-Serif\" font-size=\"14.00\" fill=\"#000000\">samples = 2</text>\n<text text-anchor=\"start\" x=\"953\" y=\"-610.3\" font-family=\"Helvetica,sans-Serif\" font-size=\"14.00\" fill=\"#000000\">value = [2, 0]</text>\n<text text-anchor=\"start\" x=\"958\" y=\"-595.3\" font-family=\"Helvetica,sans-Serif\" font-size=\"14.00\" fill=\"#000000\">class = yes</text>\n</g>\n<!-- 36&#45;&gt;38 -->\n<g id=\"edge38\" class=\"edge\">\n<title>36&#45;&gt;38</title>\n<path fill=\"none\" stroke=\"#000000\" d=\"M956.1353,-698.8796C961.5872,-687.8835 967.4843,-675.9893 972.9816,-664.9015\"/>\n<polygon fill=\"#000000\" stroke=\"#000000\" points=\"976.1804,-666.3289 977.4867,-655.8149 969.9089,-663.2195 976.1804,-666.3289\"/>\n</g>\n<!-- 41 -->\n<g id=\"node42\" class=\"node\">\n<title>41</title>\n<path fill=\"#cee6f8\" stroke=\"#000000\" d=\"M1301.5,-1139C1301.5,-1139 1203.5,-1139 1203.5,-1139 1197.5,-1139 1191.5,-1133 1191.5,-1127 1191.5,-1127 1191.5,-1068 1191.5,-1068 1191.5,-1062 1197.5,-1056 1203.5,-1056 1203.5,-1056 1301.5,-1056 1301.5,-1056 1307.5,-1056 1313.5,-1062 1313.5,-1068 1313.5,-1068 1313.5,-1127 1313.5,-1127 1313.5,-1133 1307.5,-1139 1301.5,-1139\"/>\n<text text-anchor=\"start\" x=\"1199.5\" y=\"-1123.8\" font-family=\"Helvetica,sans-Serif\" font-size=\"14.00\" fill=\"#000000\">User ID ≤ &#45;0.459</text>\n<text text-anchor=\"start\" x=\"1219\" y=\"-1108.8\" font-family=\"Helvetica,sans-Serif\" font-size=\"14.00\" fill=\"#000000\">gini = 0.49</text>\n<text text-anchor=\"start\" x=\"1208.5\" y=\"-1093.8\" font-family=\"Helvetica,sans-Serif\" font-size=\"14.00\" fill=\"#000000\">samples = 14</text>\n<text text-anchor=\"start\" x=\"1211\" y=\"-1078.8\" font-family=\"Helvetica,sans-Serif\" font-size=\"14.00\" fill=\"#000000\">value = [6, 8]</text>\n<text text-anchor=\"start\" x=\"1219\" y=\"-1063.8\" font-family=\"Helvetica,sans-Serif\" font-size=\"14.00\" fill=\"#000000\">class = no</text>\n</g>\n<!-- 40&#45;&gt;41 -->\n<g id=\"edge41\" class=\"edge\">\n<title>40&#45;&gt;41</title>\n<path fill=\"none\" stroke=\"#000000\" d=\"M1252.5,-1174.8796C1252.5,-1166.6838 1252.5,-1157.9891 1252.5,-1149.5013\"/>\n<polygon fill=\"#000000\" stroke=\"#000000\" points=\"1256.0001,-1149.298 1252.5,-1139.2981 1249.0001,-1149.2981 1256.0001,-1149.298\"/>\n</g>\n<!-- 54 -->\n<g id=\"node55\" class=\"node\">\n<title>54</title>\n<path fill=\"#4da7e8\" stroke=\"#000000\" d=\"M1624,-1139C1624,-1139 1541,-1139 1541,-1139 1535,-1139 1529,-1133 1529,-1127 1529,-1127 1529,-1068 1529,-1068 1529,-1062 1535,-1056 1541,-1056 1541,-1056 1624,-1056 1624,-1056 1630,-1056 1636,-1062 1636,-1068 1636,-1068 1636,-1127 1636,-1127 1636,-1133 1630,-1139 1624,-1139\"/>\n<text text-anchor=\"start\" x=\"1543\" y=\"-1123.8\" font-family=\"Helvetica,sans-Serif\" font-size=\"14.00\" fill=\"#000000\">Age ≤ 1.409</text>\n<text text-anchor=\"start\" x=\"1544.5\" y=\"-1108.8\" font-family=\"Helvetica,sans-Serif\" font-size=\"14.00\" fill=\"#000000\">gini = 0.168</text>\n<text text-anchor=\"start\" x=\"1538.5\" y=\"-1093.8\" font-family=\"Helvetica,sans-Serif\" font-size=\"14.00\" fill=\"#000000\">samples = 65</text>\n<text text-anchor=\"start\" x=\"1537\" y=\"-1078.8\" font-family=\"Helvetica,sans-Serif\" font-size=\"14.00\" fill=\"#000000\">value = [6, 59]</text>\n<text text-anchor=\"start\" x=\"1549\" y=\"-1063.8\" font-family=\"Helvetica,sans-Serif\" font-size=\"14.00\" fill=\"#000000\">class = no</text>\n</g>\n<!-- 40&#45;&gt;54 -->\n<g id=\"edge54\" class=\"edge\">\n<title>40&#45;&gt;54</title>\n<path fill=\"none\" stroke=\"#000000\" d=\"M1310.7377,-1195.4991C1369.1918,-1174.4202 1458.9743,-1142.0441 1519.1708,-1120.3369\"/>\n<polygon fill=\"#000000\" stroke=\"#000000\" points=\"1520.7189,-1123.4993 1528.9386,-1116.8146 1518.3443,-1116.9144 1520.7189,-1123.4993\"/>\n</g>\n<!-- 42 -->\n<g id=\"node43\" class=\"node\">\n<title>42</title>\n<path fill=\"#61b1ea\" stroke=\"#000000\" d=\"M1207,-1020C1207,-1020 1132,-1020 1132,-1020 1126,-1020 1120,-1014 1120,-1008 1120,-1008 1120,-949 1120,-949 1120,-943 1126,-937 1132,-937 1132,-937 1207,-937 1207,-937 1213,-937 1219,-943 1219,-949 1219,-949 1219,-1008 1219,-1008 1219,-1014 1213,-1020 1207,-1020\"/>\n<text text-anchor=\"start\" x=\"1130\" y=\"-1004.8\" font-family=\"Helvetica,sans-Serif\" font-size=\"14.00\" fill=\"#000000\">Age ≤ 0.736</text>\n<text text-anchor=\"start\" x=\"1131.5\" y=\"-989.8\" font-family=\"Helvetica,sans-Serif\" font-size=\"14.00\" fill=\"#000000\">gini = 0.278</text>\n<text text-anchor=\"start\" x=\"1130\" y=\"-974.8\" font-family=\"Helvetica,sans-Serif\" font-size=\"14.00\" fill=\"#000000\">samples = 6</text>\n<text text-anchor=\"start\" x=\"1128\" y=\"-959.8\" font-family=\"Helvetica,sans-Serif\" font-size=\"14.00\" fill=\"#000000\">value = [1, 5]</text>\n<text text-anchor=\"start\" x=\"1136\" y=\"-944.8\" font-family=\"Helvetica,sans-Serif\" font-size=\"14.00\" fill=\"#000000\">class = no</text>\n</g>\n<!-- 41&#45;&gt;42 -->\n<g id=\"edge42\" class=\"edge\">\n<title>41&#45;&gt;42</title>\n<path fill=\"none\" stroke=\"#000000\" d=\"M1223.4706,-1055.8796C1217.3145,-1047.0534 1210.7549,-1037.6485 1204.4064,-1028.5466\"/>\n<polygon fill=\"#000000\" stroke=\"#000000\" points=\"1207.2448,-1026.4978 1198.6533,-1020.2981 1201.5033,-1030.5024 1207.2448,-1026.4978\"/>\n</g>\n<!-- 47 -->\n<g id=\"node48\" class=\"node\">\n<title>47</title>\n<path fill=\"#f5cdb0\" stroke=\"#000000\" d=\"M1406.5,-1020C1406.5,-1020 1264.5,-1020 1264.5,-1020 1258.5,-1020 1252.5,-1014 1252.5,-1008 1252.5,-1008 1252.5,-949 1252.5,-949 1252.5,-943 1258.5,-937 1264.5,-937 1264.5,-937 1406.5,-937 1406.5,-937 1412.5,-937 1418.5,-943 1418.5,-949 1418.5,-949 1418.5,-1008 1418.5,-1008 1418.5,-1014 1412.5,-1020 1406.5,-1020\"/>\n<text text-anchor=\"start\" x=\"1260.5\" y=\"-1004.8\" font-family=\"Helvetica,sans-Serif\" font-size=\"14.00\" fill=\"#000000\">EstimatedSalary ≤ 0.98</text>\n<text text-anchor=\"start\" x=\"1297.5\" y=\"-989.8\" font-family=\"Helvetica,sans-Serif\" font-size=\"14.00\" fill=\"#000000\">gini = 0.469</text>\n<text text-anchor=\"start\" x=\"1296\" y=\"-974.8\" font-family=\"Helvetica,sans-Serif\" font-size=\"14.00\" fill=\"#000000\">samples = 8</text>\n<text text-anchor=\"start\" x=\"1294\" y=\"-959.8\" font-family=\"Helvetica,sans-Serif\" font-size=\"14.00\" fill=\"#000000\">value = [5, 3]</text>\n<text text-anchor=\"start\" x=\"1299\" y=\"-944.8\" font-family=\"Helvetica,sans-Serif\" font-size=\"14.00\" fill=\"#000000\">class = yes</text>\n</g>\n<!-- 41&#45;&gt;47 -->\n<g id=\"edge47\" class=\"edge\">\n<title>41&#45;&gt;47</title>\n<path fill=\"none\" stroke=\"#000000\" d=\"M1281.5294,-1055.8796C1287.6855,-1047.0534 1294.2451,-1037.6485 1300.5936,-1028.5466\"/>\n<polygon fill=\"#000000\" stroke=\"#000000\" points=\"1303.4967,-1030.5024 1306.3467,-1020.2981 1297.7552,-1026.4978 1303.4967,-1030.5024\"/>\n</g>\n<!-- 43 -->\n<g id=\"node44\" class=\"node\">\n<title>43</title>\n<path fill=\"#399de5\" stroke=\"#000000\" d=\"M1050,-893.5C1050,-893.5 975,-893.5 975,-893.5 969,-893.5 963,-887.5 963,-881.5 963,-881.5 963,-837.5 963,-837.5 963,-831.5 969,-825.5 975,-825.5 975,-825.5 1050,-825.5 1050,-825.5 1056,-825.5 1062,-831.5 1062,-837.5 1062,-837.5 1062,-881.5 1062,-881.5 1062,-887.5 1056,-893.5 1050,-893.5\"/>\n<text text-anchor=\"start\" x=\"983\" y=\"-878.3\" font-family=\"Helvetica,sans-Serif\" font-size=\"14.00\" fill=\"#000000\">gini = 0.0</text>\n<text text-anchor=\"start\" x=\"973\" y=\"-863.3\" font-family=\"Helvetica,sans-Serif\" font-size=\"14.00\" fill=\"#000000\">samples = 4</text>\n<text text-anchor=\"start\" x=\"971\" y=\"-848.3\" font-family=\"Helvetica,sans-Serif\" font-size=\"14.00\" fill=\"#000000\">value = [0, 4]</text>\n<text text-anchor=\"start\" x=\"979\" y=\"-833.3\" font-family=\"Helvetica,sans-Serif\" font-size=\"14.00\" fill=\"#000000\">class = no</text>\n</g>\n<!-- 42&#45;&gt;43 -->\n<g id=\"edge43\" class=\"edge\">\n<title>42&#45;&gt;43</title>\n<path fill=\"none\" stroke=\"#000000\" d=\"M1119.8242,-940.8477C1102.6852,-927.8569 1083.4173,-913.2526 1065.9869,-900.041\"/>\n<polygon fill=\"#000000\" stroke=\"#000000\" points=\"1067.6787,-896.9316 1057.5951,-893.6803 1063.4503,-902.5102 1067.6787,-896.9316\"/>\n</g>\n<!-- 44 -->\n<g id=\"node45\" class=\"node\">\n<title>44</title>\n<path fill=\"#ffffff\" stroke=\"#000000\" d=\"M1247,-901C1247,-901 1092,-901 1092,-901 1086,-901 1080,-895 1080,-889 1080,-889 1080,-830 1080,-830 1080,-824 1086,-818 1092,-818 1092,-818 1247,-818 1247,-818 1253,-818 1259,-824 1259,-830 1259,-830 1259,-889 1259,-889 1259,-895 1253,-901 1247,-901\"/>\n<text text-anchor=\"start\" x=\"1088\" y=\"-885.8\" font-family=\"Helvetica,sans-Serif\" font-size=\"14.00\" fill=\"#000000\">EstimatedSalary ≤ &#45;0.403</text>\n<text text-anchor=\"start\" x=\"1140\" y=\"-870.8\" font-family=\"Helvetica,sans-Serif\" font-size=\"14.00\" fill=\"#000000\">gini = 0.5</text>\n<text text-anchor=\"start\" x=\"1130\" y=\"-855.8\" font-family=\"Helvetica,sans-Serif\" font-size=\"14.00\" fill=\"#000000\">samples = 2</text>\n<text text-anchor=\"start\" x=\"1128\" y=\"-840.8\" font-family=\"Helvetica,sans-Serif\" font-size=\"14.00\" fill=\"#000000\">value = [1, 1]</text>\n<text text-anchor=\"start\" x=\"1133\" y=\"-825.8\" font-family=\"Helvetica,sans-Serif\" font-size=\"14.00\" fill=\"#000000\">class = yes</text>\n</g>\n<!-- 42&#45;&gt;44 -->\n<g id=\"edge44\" class=\"edge\">\n<title>42&#45;&gt;44</title>\n<path fill=\"none\" stroke=\"#000000\" d=\"M1169.5,-936.8796C1169.5,-928.6838 1169.5,-919.9891 1169.5,-911.5013\"/>\n<polygon fill=\"#000000\" stroke=\"#000000\" points=\"1173.0001,-911.298 1169.5,-901.2981 1166.0001,-911.2981 1173.0001,-911.298\"/>\n</g>\n<!-- 45 -->\n<g id=\"node46\" class=\"node\">\n<title>45</title>\n<path fill=\"#399de5\" stroke=\"#000000\" d=\"M1099,-774.5C1099,-774.5 1024,-774.5 1024,-774.5 1018,-774.5 1012,-768.5 1012,-762.5 1012,-762.5 1012,-718.5 1012,-718.5 1012,-712.5 1018,-706.5 1024,-706.5 1024,-706.5 1099,-706.5 1099,-706.5 1105,-706.5 1111,-712.5 1111,-718.5 1111,-718.5 1111,-762.5 1111,-762.5 1111,-768.5 1105,-774.5 1099,-774.5\"/>\n<text text-anchor=\"start\" x=\"1032\" y=\"-759.3\" font-family=\"Helvetica,sans-Serif\" font-size=\"14.00\" fill=\"#000000\">gini = 0.0</text>\n<text text-anchor=\"start\" x=\"1022\" y=\"-744.3\" font-family=\"Helvetica,sans-Serif\" font-size=\"14.00\" fill=\"#000000\">samples = 1</text>\n<text text-anchor=\"start\" x=\"1020\" y=\"-729.3\" font-family=\"Helvetica,sans-Serif\" font-size=\"14.00\" fill=\"#000000\">value = [0, 1]</text>\n<text text-anchor=\"start\" x=\"1028\" y=\"-714.3\" font-family=\"Helvetica,sans-Serif\" font-size=\"14.00\" fill=\"#000000\">class = no</text>\n</g>\n<!-- 44&#45;&gt;45 -->\n<g id=\"edge45\" class=\"edge\">\n<title>44&#45;&gt;45</title>\n<path fill=\"none\" stroke=\"#000000\" d=\"M1131.7268,-817.8796C1121.2482,-806.3337 1109.8709,-793.7976 1099.3859,-782.2446\"/>\n<polygon fill=\"#000000\" stroke=\"#000000\" points=\"1101.9553,-779.8678 1092.643,-774.8149 1096.7718,-784.5722 1101.9553,-779.8678\"/>\n</g>\n<!-- 46 -->\n<g id=\"node47\" class=\"node\">\n<title>46</title>\n<path fill=\"#e58139\" stroke=\"#000000\" d=\"M1216,-774.5C1216,-774.5 1141,-774.5 1141,-774.5 1135,-774.5 1129,-768.5 1129,-762.5 1129,-762.5 1129,-718.5 1129,-718.5 1129,-712.5 1135,-706.5 1141,-706.5 1141,-706.5 1216,-706.5 1216,-706.5 1222,-706.5 1228,-712.5 1228,-718.5 1228,-718.5 1228,-762.5 1228,-762.5 1228,-768.5 1222,-774.5 1216,-774.5\"/>\n<text text-anchor=\"start\" x=\"1149\" y=\"-759.3\" font-family=\"Helvetica,sans-Serif\" font-size=\"14.00\" fill=\"#000000\">gini = 0.0</text>\n<text text-anchor=\"start\" x=\"1139\" y=\"-744.3\" font-family=\"Helvetica,sans-Serif\" font-size=\"14.00\" fill=\"#000000\">samples = 1</text>\n<text text-anchor=\"start\" x=\"1137\" y=\"-729.3\" font-family=\"Helvetica,sans-Serif\" font-size=\"14.00\" fill=\"#000000\">value = [1, 0]</text>\n<text text-anchor=\"start\" x=\"1142\" y=\"-714.3\" font-family=\"Helvetica,sans-Serif\" font-size=\"14.00\" fill=\"#000000\">class = yes</text>\n</g>\n<!-- 44&#45;&gt;46 -->\n<g id=\"edge46\" class=\"edge\">\n<title>44&#45;&gt;46</title>\n<path fill=\"none\" stroke=\"#000000\" d=\"M1172.6478,-817.8796C1173.4545,-807.2134 1174.3251,-795.7021 1175.1419,-784.9015\"/>\n<polygon fill=\"#000000\" stroke=\"#000000\" points=\"1178.6405,-785.0504 1175.9048,-774.8149 1171.6605,-784.5225 1178.6405,-785.0504\"/>\n</g>\n<!-- 48 -->\n<g id=\"node49\" class=\"node\">\n<title>48</title>\n<path fill=\"#ea9a61\" stroke=\"#000000\" d=\"M1382,-901C1382,-901 1289,-901 1289,-901 1283,-901 1277,-895 1277,-889 1277,-889 1277,-830 1277,-830 1277,-824 1283,-818 1289,-818 1289,-818 1382,-818 1382,-818 1388,-818 1394,-824 1394,-830 1394,-830 1394,-889 1394,-889 1394,-895 1388,-901 1382,-901\"/>\n<text text-anchor=\"start\" x=\"1285\" y=\"-885.8\" font-family=\"Helvetica,sans-Serif\" font-size=\"14.00\" fill=\"#000000\">User ID ≤ 0.051</text>\n<text text-anchor=\"start\" x=\"1297.5\" y=\"-870.8\" font-family=\"Helvetica,sans-Serif\" font-size=\"14.00\" fill=\"#000000\">gini = 0.278</text>\n<text text-anchor=\"start\" x=\"1296\" y=\"-855.8\" font-family=\"Helvetica,sans-Serif\" font-size=\"14.00\" fill=\"#000000\">samples = 6</text>\n<text text-anchor=\"start\" x=\"1294\" y=\"-840.8\" font-family=\"Helvetica,sans-Serif\" font-size=\"14.00\" fill=\"#000000\">value = [5, 1]</text>\n<text text-anchor=\"start\" x=\"1299\" y=\"-825.8\" font-family=\"Helvetica,sans-Serif\" font-size=\"14.00\" fill=\"#000000\">class = yes</text>\n</g>\n<!-- 47&#45;&gt;48 -->\n<g id=\"edge48\" class=\"edge\">\n<title>47&#45;&gt;48</title>\n<path fill=\"none\" stroke=\"#000000\" d=\"M1335.5,-936.8796C1335.5,-928.6838 1335.5,-919.9891 1335.5,-911.5013\"/>\n<polygon fill=\"#000000\" stroke=\"#000000\" points=\"1339.0001,-911.298 1335.5,-901.2981 1332.0001,-911.2981 1339.0001,-911.298\"/>\n</g>\n<!-- 53 -->\n<g id=\"node54\" class=\"node\">\n<title>53</title>\n<path fill=\"#399de5\" stroke=\"#000000\" d=\"M1499,-893.5C1499,-893.5 1424,-893.5 1424,-893.5 1418,-893.5 1412,-887.5 1412,-881.5 1412,-881.5 1412,-837.5 1412,-837.5 1412,-831.5 1418,-825.5 1424,-825.5 1424,-825.5 1499,-825.5 1499,-825.5 1505,-825.5 1511,-831.5 1511,-837.5 1511,-837.5 1511,-881.5 1511,-881.5 1511,-887.5 1505,-893.5 1499,-893.5\"/>\n<text text-anchor=\"start\" x=\"1432\" y=\"-878.3\" font-family=\"Helvetica,sans-Serif\" font-size=\"14.00\" fill=\"#000000\">gini = 0.0</text>\n<text text-anchor=\"start\" x=\"1422\" y=\"-863.3\" font-family=\"Helvetica,sans-Serif\" font-size=\"14.00\" fill=\"#000000\">samples = 2</text>\n<text text-anchor=\"start\" x=\"1420\" y=\"-848.3\" font-family=\"Helvetica,sans-Serif\" font-size=\"14.00\" fill=\"#000000\">value = [0, 2]</text>\n<text text-anchor=\"start\" x=\"1428\" y=\"-833.3\" font-family=\"Helvetica,sans-Serif\" font-size=\"14.00\" fill=\"#000000\">class = no</text>\n</g>\n<!-- 47&#45;&gt;53 -->\n<g id=\"edge53\" class=\"edge\">\n<title>47&#45;&gt;53</title>\n<path fill=\"none\" stroke=\"#000000\" d=\"M1379.5687,-936.8796C1391.9102,-925.2237 1405.3202,-912.5587 1417.649,-900.9148\"/>\n<polygon fill=\"#000000\" stroke=\"#000000\" points=\"1420.2996,-903.2258 1425.1665,-893.8149 1415.4932,-898.1366 1420.2996,-903.2258\"/>\n</g>\n<!-- 49 -->\n<g id=\"node50\" class=\"node\">\n<title>49</title>\n<path fill=\"#f2c09c\" stroke=\"#000000\" d=\"M1413,-782C1413,-782 1258,-782 1258,-782 1252,-782 1246,-776 1246,-770 1246,-770 1246,-711 1246,-711 1246,-705 1252,-699 1258,-699 1258,-699 1413,-699 1413,-699 1419,-699 1425,-705 1425,-711 1425,-711 1425,-770 1425,-770 1425,-776 1419,-782 1413,-782\"/>\n<text text-anchor=\"start\" x=\"1254\" y=\"-766.8\" font-family=\"Helvetica,sans-Serif\" font-size=\"14.00\" fill=\"#000000\">EstimatedSalary ≤ &#45;0.315</text>\n<text text-anchor=\"start\" x=\"1297.5\" y=\"-751.8\" font-family=\"Helvetica,sans-Serif\" font-size=\"14.00\" fill=\"#000000\">gini = 0.444</text>\n<text text-anchor=\"start\" x=\"1296\" y=\"-736.8\" font-family=\"Helvetica,sans-Serif\" font-size=\"14.00\" fill=\"#000000\">samples = 3</text>\n<text text-anchor=\"start\" x=\"1294\" y=\"-721.8\" font-family=\"Helvetica,sans-Serif\" font-size=\"14.00\" fill=\"#000000\">value = [2, 1]</text>\n<text text-anchor=\"start\" x=\"1299\" y=\"-706.8\" font-family=\"Helvetica,sans-Serif\" font-size=\"14.00\" fill=\"#000000\">class = yes</text>\n</g>\n<!-- 48&#45;&gt;49 -->\n<g id=\"edge49\" class=\"edge\">\n<title>48&#45;&gt;49</title>\n<path fill=\"none\" stroke=\"#000000\" d=\"M1335.5,-817.8796C1335.5,-809.6838 1335.5,-800.9891 1335.5,-792.5013\"/>\n<polygon fill=\"#000000\" stroke=\"#000000\" points=\"1339.0001,-792.298 1335.5,-782.2981 1332.0001,-792.2981 1339.0001,-792.298\"/>\n</g>\n<!-- 52 -->\n<g id=\"node53\" class=\"node\">\n<title>52</title>\n<path fill=\"#e58139\" stroke=\"#000000\" d=\"M1530,-774.5C1530,-774.5 1455,-774.5 1455,-774.5 1449,-774.5 1443,-768.5 1443,-762.5 1443,-762.5 1443,-718.5 1443,-718.5 1443,-712.5 1449,-706.5 1455,-706.5 1455,-706.5 1530,-706.5 1530,-706.5 1536,-706.5 1542,-712.5 1542,-718.5 1542,-718.5 1542,-762.5 1542,-762.5 1542,-768.5 1536,-774.5 1530,-774.5\"/>\n<text text-anchor=\"start\" x=\"1463\" y=\"-759.3\" font-family=\"Helvetica,sans-Serif\" font-size=\"14.00\" fill=\"#000000\">gini = 0.0</text>\n<text text-anchor=\"start\" x=\"1453\" y=\"-744.3\" font-family=\"Helvetica,sans-Serif\" font-size=\"14.00\" fill=\"#000000\">samples = 3</text>\n<text text-anchor=\"start\" x=\"1451\" y=\"-729.3\" font-family=\"Helvetica,sans-Serif\" font-size=\"14.00\" fill=\"#000000\">value = [3, 0]</text>\n<text text-anchor=\"start\" x=\"1456\" y=\"-714.3\" font-family=\"Helvetica,sans-Serif\" font-size=\"14.00\" fill=\"#000000\">class = yes</text>\n</g>\n<!-- 48&#45;&gt;52 -->\n<g id=\"edge52\" class=\"edge\">\n<title>48&#45;&gt;52</title>\n<path fill=\"none\" stroke=\"#000000\" d=\"M1390.411,-817.8796C1406.2994,-805.8368 1423.6091,-792.7167 1439.3857,-780.7586\"/>\n<polygon fill=\"#000000\" stroke=\"#000000\" points=\"1441.6253,-783.4529 1447.4805,-774.623 1437.3969,-777.8743 1441.6253,-783.4529\"/>\n</g>\n<!-- 50 -->\n<g id=\"node51\" class=\"node\">\n<title>50</title>\n<path fill=\"#399de5\" stroke=\"#000000\" d=\"M1314,-655.5C1314,-655.5 1239,-655.5 1239,-655.5 1233,-655.5 1227,-649.5 1227,-643.5 1227,-643.5 1227,-599.5 1227,-599.5 1227,-593.5 1233,-587.5 1239,-587.5 1239,-587.5 1314,-587.5 1314,-587.5 1320,-587.5 1326,-593.5 1326,-599.5 1326,-599.5 1326,-643.5 1326,-643.5 1326,-649.5 1320,-655.5 1314,-655.5\"/>\n<text text-anchor=\"start\" x=\"1247\" y=\"-640.3\" font-family=\"Helvetica,sans-Serif\" font-size=\"14.00\" fill=\"#000000\">gini = 0.0</text>\n<text text-anchor=\"start\" x=\"1237\" y=\"-625.3\" font-family=\"Helvetica,sans-Serif\" font-size=\"14.00\" fill=\"#000000\">samples = 1</text>\n<text text-anchor=\"start\" x=\"1235\" y=\"-610.3\" font-family=\"Helvetica,sans-Serif\" font-size=\"14.00\" fill=\"#000000\">value = [0, 1]</text>\n<text text-anchor=\"start\" x=\"1243\" y=\"-595.3\" font-family=\"Helvetica,sans-Serif\" font-size=\"14.00\" fill=\"#000000\">class = no</text>\n</g>\n<!-- 49&#45;&gt;50 -->\n<g id=\"edge50\" class=\"edge\">\n<title>49&#45;&gt;50</title>\n<path fill=\"none\" stroke=\"#000000\" d=\"M1314.8647,-698.8796C1309.4128,-687.8835 1303.5157,-675.9893 1298.0184,-664.9015\"/>\n<polygon fill=\"#000000\" stroke=\"#000000\" points=\"1301.0911,-663.2195 1293.5133,-655.8149 1294.8196,-666.3289 1301.0911,-663.2195\"/>\n</g>\n<!-- 51 -->\n<g id=\"node52\" class=\"node\">\n<title>51</title>\n<path fill=\"#e58139\" stroke=\"#000000\" d=\"M1431,-655.5C1431,-655.5 1356,-655.5 1356,-655.5 1350,-655.5 1344,-649.5 1344,-643.5 1344,-643.5 1344,-599.5 1344,-599.5 1344,-593.5 1350,-587.5 1356,-587.5 1356,-587.5 1431,-587.5 1431,-587.5 1437,-587.5 1443,-593.5 1443,-599.5 1443,-599.5 1443,-643.5 1443,-643.5 1443,-649.5 1437,-655.5 1431,-655.5\"/>\n<text text-anchor=\"start\" x=\"1364\" y=\"-640.3\" font-family=\"Helvetica,sans-Serif\" font-size=\"14.00\" fill=\"#000000\">gini = 0.0</text>\n<text text-anchor=\"start\" x=\"1354\" y=\"-625.3\" font-family=\"Helvetica,sans-Serif\" font-size=\"14.00\" fill=\"#000000\">samples = 2</text>\n<text text-anchor=\"start\" x=\"1352\" y=\"-610.3\" font-family=\"Helvetica,sans-Serif\" font-size=\"14.00\" fill=\"#000000\">value = [2, 0]</text>\n<text text-anchor=\"start\" x=\"1357\" y=\"-595.3\" font-family=\"Helvetica,sans-Serif\" font-size=\"14.00\" fill=\"#000000\">class = yes</text>\n</g>\n<!-- 49&#45;&gt;51 -->\n<g id=\"edge51\" class=\"edge\">\n<title>49&#45;&gt;51</title>\n<path fill=\"none\" stroke=\"#000000\" d=\"M1355.7856,-698.8796C1361.145,-687.8835 1366.9422,-675.9893 1372.3463,-664.9015\"/>\n<polygon fill=\"#000000\" stroke=\"#000000\" points=\"1375.54,-666.3375 1376.7751,-655.8149 1369.2476,-663.2706 1375.54,-666.3375\"/>\n</g>\n<!-- 55 -->\n<g id=\"node56\" class=\"node\">\n<title>55</title>\n<path fill=\"#61b1ea\" stroke=\"#000000\" d=\"M1660,-1020C1660,-1020 1505,-1020 1505,-1020 1499,-1020 1493,-1014 1493,-1008 1493,-1008 1493,-949 1493,-949 1493,-943 1499,-937 1505,-937 1505,-937 1660,-937 1660,-937 1666,-937 1672,-943 1672,-949 1672,-949 1672,-1008 1672,-1008 1672,-1014 1666,-1020 1660,-1020\"/>\n<text text-anchor=\"start\" x=\"1501\" y=\"-1004.8\" font-family=\"Helvetica,sans-Serif\" font-size=\"14.00\" fill=\"#000000\">EstimatedSalary ≤ &#45;0.845</text>\n<text text-anchor=\"start\" x=\"1544.5\" y=\"-989.8\" font-family=\"Helvetica,sans-Serif\" font-size=\"14.00\" fill=\"#000000\">gini = 0.278</text>\n<text text-anchor=\"start\" x=\"1538.5\" y=\"-974.8\" font-family=\"Helvetica,sans-Serif\" font-size=\"14.00\" fill=\"#000000\">samples = 36</text>\n<text text-anchor=\"start\" x=\"1537\" y=\"-959.8\" font-family=\"Helvetica,sans-Serif\" font-size=\"14.00\" fill=\"#000000\">value = [6, 30]</text>\n<text text-anchor=\"start\" x=\"1549\" y=\"-944.8\" font-family=\"Helvetica,sans-Serif\" font-size=\"14.00\" fill=\"#000000\">class = no</text>\n</g>\n<!-- 54&#45;&gt;55 -->\n<g id=\"edge55\" class=\"edge\">\n<title>54&#45;&gt;55</title>\n<path fill=\"none\" stroke=\"#000000\" d=\"M1582.5,-1055.8796C1582.5,-1047.6838 1582.5,-1038.9891 1582.5,-1030.5013\"/>\n<polygon fill=\"#000000\" stroke=\"#000000\" points=\"1586.0001,-1030.298 1582.5,-1020.2981 1579.0001,-1030.2981 1586.0001,-1030.298\"/>\n</g>\n<!-- 70 -->\n<g id=\"node71\" class=\"node\">\n<title>70</title>\n<path fill=\"#399de5\" stroke=\"#000000\" d=\"M1785,-1012.5C1785,-1012.5 1702,-1012.5 1702,-1012.5 1696,-1012.5 1690,-1006.5 1690,-1000.5 1690,-1000.5 1690,-956.5 1690,-956.5 1690,-950.5 1696,-944.5 1702,-944.5 1702,-944.5 1785,-944.5 1785,-944.5 1791,-944.5 1797,-950.5 1797,-956.5 1797,-956.5 1797,-1000.5 1797,-1000.5 1797,-1006.5 1791,-1012.5 1785,-1012.5\"/>\n<text text-anchor=\"start\" x=\"1714\" y=\"-997.3\" font-family=\"Helvetica,sans-Serif\" font-size=\"14.00\" fill=\"#000000\">gini = 0.0</text>\n<text text-anchor=\"start\" x=\"1699.5\" y=\"-982.3\" font-family=\"Helvetica,sans-Serif\" font-size=\"14.00\" fill=\"#000000\">samples = 29</text>\n<text text-anchor=\"start\" x=\"1698\" y=\"-967.3\" font-family=\"Helvetica,sans-Serif\" font-size=\"14.00\" fill=\"#000000\">value = [0, 29]</text>\n<text text-anchor=\"start\" x=\"1710\" y=\"-952.3\" font-family=\"Helvetica,sans-Serif\" font-size=\"14.00\" fill=\"#000000\">class = no</text>\n</g>\n<!-- 54&#45;&gt;70 -->\n<g id=\"edge70\" class=\"edge\">\n<title>54&#45;&gt;70</title>\n<path fill=\"none\" stroke=\"#000000\" d=\"M1636.1107,-1057.8747C1653.1693,-1045.2662 1672.0479,-1031.3124 1689.1577,-1018.6661\"/>\n<polygon fill=\"#000000\" stroke=\"#000000\" points=\"1691.4378,-1021.3331 1697.3992,-1012.5745 1687.2771,-1015.7038 1691.4378,-1021.3331\"/>\n</g>\n<!-- 56 -->\n<g id=\"node57\" class=\"node\">\n<title>56</title>\n<path fill=\"#399de5\" stroke=\"#000000\" d=\"M1624,-893.5C1624,-893.5 1541,-893.5 1541,-893.5 1535,-893.5 1529,-887.5 1529,-881.5 1529,-881.5 1529,-837.5 1529,-837.5 1529,-831.5 1535,-825.5 1541,-825.5 1541,-825.5 1624,-825.5 1624,-825.5 1630,-825.5 1636,-831.5 1636,-837.5 1636,-837.5 1636,-881.5 1636,-881.5 1636,-887.5 1630,-893.5 1624,-893.5\"/>\n<text text-anchor=\"start\" x=\"1553\" y=\"-878.3\" font-family=\"Helvetica,sans-Serif\" font-size=\"14.00\" fill=\"#000000\">gini = 0.0</text>\n<text text-anchor=\"start\" x=\"1538.5\" y=\"-863.3\" font-family=\"Helvetica,sans-Serif\" font-size=\"14.00\" fill=\"#000000\">samples = 14</text>\n<text text-anchor=\"start\" x=\"1537\" y=\"-848.3\" font-family=\"Helvetica,sans-Serif\" font-size=\"14.00\" fill=\"#000000\">value = [0, 14]</text>\n<text text-anchor=\"start\" x=\"1549\" y=\"-833.3\" font-family=\"Helvetica,sans-Serif\" font-size=\"14.00\" fill=\"#000000\">class = no</text>\n</g>\n<!-- 55&#45;&gt;56 -->\n<g id=\"edge56\" class=\"edge\">\n<title>55&#45;&gt;56</title>\n<path fill=\"none\" stroke=\"#000000\" d=\"M1582.5,-936.8796C1582.5,-926.2134 1582.5,-914.7021 1582.5,-903.9015\"/>\n<polygon fill=\"#000000\" stroke=\"#000000\" points=\"1586.0001,-903.8149 1582.5,-893.8149 1579.0001,-903.815 1586.0001,-903.8149\"/>\n</g>\n<!-- 57 -->\n<g id=\"node58\" class=\"node\">\n<title>57</title>\n<path fill=\"#83c2ef\" stroke=\"#000000\" d=\"M1759,-901C1759,-901 1666,-901 1666,-901 1660,-901 1654,-895 1654,-889 1654,-889 1654,-830 1654,-830 1654,-824 1660,-818 1666,-818 1666,-818 1759,-818 1759,-818 1765,-818 1771,-824 1771,-830 1771,-830 1771,-889 1771,-889 1771,-895 1765,-901 1759,-901\"/>\n<text text-anchor=\"start\" x=\"1662\" y=\"-885.8\" font-family=\"Helvetica,sans-Serif\" font-size=\"14.00\" fill=\"#000000\">User ID ≤ 0.354</text>\n<text text-anchor=\"start\" x=\"1674.5\" y=\"-870.8\" font-family=\"Helvetica,sans-Serif\" font-size=\"14.00\" fill=\"#000000\">gini = 0.397</text>\n<text text-anchor=\"start\" x=\"1668.5\" y=\"-855.8\" font-family=\"Helvetica,sans-Serif\" font-size=\"14.00\" fill=\"#000000\">samples = 22</text>\n<text text-anchor=\"start\" x=\"1667\" y=\"-840.8\" font-family=\"Helvetica,sans-Serif\" font-size=\"14.00\" fill=\"#000000\">value = [6, 16]</text>\n<text text-anchor=\"start\" x=\"1679\" y=\"-825.8\" font-family=\"Helvetica,sans-Serif\" font-size=\"14.00\" fill=\"#000000\">class = no</text>\n</g>\n<!-- 55&#45;&gt;57 -->\n<g id=\"edge57\" class=\"edge\">\n<title>55&#45;&gt;57</title>\n<path fill=\"none\" stroke=\"#000000\" d=\"M1627.9677,-936.8796C1638.1017,-927.6031 1648.934,-917.6874 1659.3465,-908.1559\"/>\n<polygon fill=\"#000000\" stroke=\"#000000\" points=\"1661.8252,-910.6319 1666.8382,-901.2981 1657.0987,-905.4685 1661.8252,-910.6319\"/>\n</g>\n<!-- 58 -->\n<g id=\"node59\" class=\"node\">\n<title>58</title>\n<path fill=\"#ffffff\" stroke=\"#000000\" d=\"M1719.5,-782C1719.5,-782 1639.5,-782 1639.5,-782 1633.5,-782 1627.5,-776 1627.5,-770 1627.5,-770 1627.5,-711 1627.5,-711 1627.5,-705 1633.5,-699 1639.5,-699 1639.5,-699 1719.5,-699 1719.5,-699 1725.5,-699 1731.5,-705 1731.5,-711 1731.5,-711 1731.5,-770 1731.5,-770 1731.5,-776 1725.5,-782 1719.5,-782\"/>\n<text text-anchor=\"start\" x=\"1640\" y=\"-766.8\" font-family=\"Helvetica,sans-Serif\" font-size=\"14.00\" fill=\"#000000\">Age ≤ 1.024</text>\n<text text-anchor=\"start\" x=\"1650\" y=\"-751.8\" font-family=\"Helvetica,sans-Serif\" font-size=\"14.00\" fill=\"#000000\">gini = 0.5</text>\n<text text-anchor=\"start\" x=\"1635.5\" y=\"-736.8\" font-family=\"Helvetica,sans-Serif\" font-size=\"14.00\" fill=\"#000000\">samples = 10</text>\n<text text-anchor=\"start\" x=\"1638\" y=\"-721.8\" font-family=\"Helvetica,sans-Serif\" font-size=\"14.00\" fill=\"#000000\">value = [5, 5]</text>\n<text text-anchor=\"start\" x=\"1643\" y=\"-706.8\" font-family=\"Helvetica,sans-Serif\" font-size=\"14.00\" fill=\"#000000\">class = yes</text>\n</g>\n<!-- 57&#45;&gt;58 -->\n<g id=\"edge58\" class=\"edge\">\n<title>57&#45;&gt;58</title>\n<path fill=\"none\" stroke=\"#000000\" d=\"M1700.9582,-817.8796C1698.6355,-809.5037 1696.1682,-800.6067 1693.7654,-791.942\"/>\n<polygon fill=\"#000000\" stroke=\"#000000\" points=\"1697.1361,-790.9991 1691.0911,-782.2981 1690.3907,-792.8697 1697.1361,-790.9991\"/>\n</g>\n<!-- 65 -->\n<g id=\"node66\" class=\"node\">\n<title>65</title>\n<path fill=\"#4ba6e7\" stroke=\"#000000\" d=\"M1855,-782C1855,-782 1762,-782 1762,-782 1756,-782 1750,-776 1750,-770 1750,-770 1750,-711 1750,-711 1750,-705 1756,-699 1762,-699 1762,-699 1855,-699 1855,-699 1861,-699 1867,-705 1867,-711 1867,-711 1867,-770 1867,-770 1867,-776 1861,-782 1855,-782\"/>\n<text text-anchor=\"start\" x=\"1758\" y=\"-766.8\" font-family=\"Helvetica,sans-Serif\" font-size=\"14.00\" fill=\"#000000\">User ID ≤ 1.347</text>\n<text text-anchor=\"start\" x=\"1770.5\" y=\"-751.8\" font-family=\"Helvetica,sans-Serif\" font-size=\"14.00\" fill=\"#000000\">gini = 0.153</text>\n<text text-anchor=\"start\" x=\"1764.5\" y=\"-736.8\" font-family=\"Helvetica,sans-Serif\" font-size=\"14.00\" fill=\"#000000\">samples = 12</text>\n<text text-anchor=\"start\" x=\"1763\" y=\"-721.8\" font-family=\"Helvetica,sans-Serif\" font-size=\"14.00\" fill=\"#000000\">value = [1, 11]</text>\n<text text-anchor=\"start\" x=\"1775\" y=\"-706.8\" font-family=\"Helvetica,sans-Serif\" font-size=\"14.00\" fill=\"#000000\">class = no</text>\n</g>\n<!-- 57&#45;&gt;65 -->\n<g id=\"edge65\" class=\"edge\">\n<title>57&#45;&gt;65</title>\n<path fill=\"none\" stroke=\"#000000\" d=\"M1746.0761,-817.8796C1753.2691,-808.9633 1760.9384,-799.4565 1768.351,-790.268\"/>\n<polygon fill=\"#000000\" stroke=\"#000000\" points=\"1771.2258,-792.2788 1774.7805,-782.2981 1765.7776,-787.8836 1771.2258,-792.2788\"/>\n</g>\n<!-- 59 -->\n<g id=\"node60\" class=\"node\">\n<title>59</title>\n<path fill=\"#88c4ef\" stroke=\"#000000\" d=\"M1602,-663C1602,-663 1509,-663 1509,-663 1503,-663 1497,-657 1497,-651 1497,-651 1497,-592 1497,-592 1497,-586 1503,-580 1509,-580 1509,-580 1602,-580 1602,-580 1608,-580 1614,-586 1614,-592 1614,-592 1614,-651 1614,-651 1614,-657 1608,-663 1602,-663\"/>\n<text text-anchor=\"start\" x=\"1505\" y=\"-647.8\" font-family=\"Helvetica,sans-Serif\" font-size=\"14.00\" fill=\"#000000\">Gender ≤ 0.007</text>\n<text text-anchor=\"start\" x=\"1517.5\" y=\"-632.8\" font-family=\"Helvetica,sans-Serif\" font-size=\"14.00\" fill=\"#000000\">gini = 0.408</text>\n<text text-anchor=\"start\" x=\"1516\" y=\"-617.8\" font-family=\"Helvetica,sans-Serif\" font-size=\"14.00\" fill=\"#000000\">samples = 7</text>\n<text text-anchor=\"start\" x=\"1514\" y=\"-602.8\" font-family=\"Helvetica,sans-Serif\" font-size=\"14.00\" fill=\"#000000\">value = [2, 5]</text>\n<text text-anchor=\"start\" x=\"1522\" y=\"-587.8\" font-family=\"Helvetica,sans-Serif\" font-size=\"14.00\" fill=\"#000000\">class = no</text>\n</g>\n<!-- 58&#45;&gt;59 -->\n<g id=\"edge59\" class=\"edge\">\n<title>58&#45;&gt;59</title>\n<path fill=\"none\" stroke=\"#000000\" d=\"M1636.1308,-698.8796C1626.5584,-689.6931 1616.3328,-679.8798 1606.4897,-670.4336\"/>\n<polygon fill=\"#000000\" stroke=\"#000000\" points=\"1608.6928,-667.6969 1599.0543,-663.2981 1603.8459,-672.7475 1608.6928,-667.6969\"/>\n</g>\n<!-- 64 -->\n<g id=\"node65\" class=\"node\">\n<title>64</title>\n<path fill=\"#e58139\" stroke=\"#000000\" d=\"M1719,-655.5C1719,-655.5 1644,-655.5 1644,-655.5 1638,-655.5 1632,-649.5 1632,-643.5 1632,-643.5 1632,-599.5 1632,-599.5 1632,-593.5 1638,-587.5 1644,-587.5 1644,-587.5 1719,-587.5 1719,-587.5 1725,-587.5 1731,-593.5 1731,-599.5 1731,-599.5 1731,-643.5 1731,-643.5 1731,-649.5 1725,-655.5 1719,-655.5\"/>\n<text text-anchor=\"start\" x=\"1652\" y=\"-640.3\" font-family=\"Helvetica,sans-Serif\" font-size=\"14.00\" fill=\"#000000\">gini = 0.0</text>\n<text text-anchor=\"start\" x=\"1642\" y=\"-625.3\" font-family=\"Helvetica,sans-Serif\" font-size=\"14.00\" fill=\"#000000\">samples = 3</text>\n<text text-anchor=\"start\" x=\"1640\" y=\"-610.3\" font-family=\"Helvetica,sans-Serif\" font-size=\"14.00\" fill=\"#000000\">value = [3, 0]</text>\n<text text-anchor=\"start\" x=\"1645\" y=\"-595.3\" font-family=\"Helvetica,sans-Serif\" font-size=\"14.00\" fill=\"#000000\">class = yes</text>\n</g>\n<!-- 58&#45;&gt;64 -->\n<g id=\"edge64\" class=\"edge\">\n<title>58&#45;&gt;64</title>\n<path fill=\"none\" stroke=\"#000000\" d=\"M1680.1995,-698.8796C1680.3788,-688.2134 1680.5722,-676.7021 1680.7538,-665.9015\"/>\n<polygon fill=\"#000000\" stroke=\"#000000\" points=\"1684.2546,-665.8724 1680.9233,-655.8149 1677.2556,-665.7547 1684.2546,-665.8724\"/>\n</g>\n<!-- 60 -->\n<g id=\"node61\" class=\"node\">\n<title>60</title>\n<path fill=\"#399de5\" stroke=\"#000000\" d=\"M1531,-536.5C1531,-536.5 1456,-536.5 1456,-536.5 1450,-536.5 1444,-530.5 1444,-524.5 1444,-524.5 1444,-480.5 1444,-480.5 1444,-474.5 1450,-468.5 1456,-468.5 1456,-468.5 1531,-468.5 1531,-468.5 1537,-468.5 1543,-474.5 1543,-480.5 1543,-480.5 1543,-524.5 1543,-524.5 1543,-530.5 1537,-536.5 1531,-536.5\"/>\n<text text-anchor=\"start\" x=\"1464\" y=\"-521.3\" font-family=\"Helvetica,sans-Serif\" font-size=\"14.00\" fill=\"#000000\">gini = 0.0</text>\n<text text-anchor=\"start\" x=\"1454\" y=\"-506.3\" font-family=\"Helvetica,sans-Serif\" font-size=\"14.00\" fill=\"#000000\">samples = 4</text>\n<text text-anchor=\"start\" x=\"1452\" y=\"-491.3\" font-family=\"Helvetica,sans-Serif\" font-size=\"14.00\" fill=\"#000000\">value = [0, 4]</text>\n<text text-anchor=\"start\" x=\"1460\" y=\"-476.3\" font-family=\"Helvetica,sans-Serif\" font-size=\"14.00\" fill=\"#000000\">class = no</text>\n</g>\n<!-- 59&#45;&gt;60 -->\n<g id=\"edge60\" class=\"edge\">\n<title>59&#45;&gt;60</title>\n<path fill=\"none\" stroke=\"#000000\" d=\"M1533.8154,-579.8796C1528.0864,-568.8835 1521.8894,-556.9893 1516.1126,-545.9015\"/>\n<polygon fill=\"#000000\" stroke=\"#000000\" points=\"1519.103,-544.0662 1511.3784,-536.8149 1512.895,-547.3007 1519.103,-544.0662\"/>\n</g>\n<!-- 61 -->\n<g id=\"node62\" class=\"node\">\n<title>61</title>\n<path fill=\"#f2c09c\" stroke=\"#000000\" d=\"M1662,-544C1662,-544 1573,-544 1573,-544 1567,-544 1561,-538 1561,-532 1561,-532 1561,-473 1561,-473 1561,-467 1567,-461 1573,-461 1573,-461 1662,-461 1662,-461 1668,-461 1674,-467 1674,-473 1674,-473 1674,-532 1674,-532 1674,-538 1668,-544 1662,-544\"/>\n<text text-anchor=\"start\" x=\"1569\" y=\"-528.8\" font-family=\"Helvetica,sans-Serif\" font-size=\"14.00\" fill=\"#000000\">User ID ≤ &#45;1.11</text>\n<text text-anchor=\"start\" x=\"1579.5\" y=\"-513.8\" font-family=\"Helvetica,sans-Serif\" font-size=\"14.00\" fill=\"#000000\">gini = 0.444</text>\n<text text-anchor=\"start\" x=\"1578\" y=\"-498.8\" font-family=\"Helvetica,sans-Serif\" font-size=\"14.00\" fill=\"#000000\">samples = 3</text>\n<text text-anchor=\"start\" x=\"1576\" y=\"-483.8\" font-family=\"Helvetica,sans-Serif\" font-size=\"14.00\" fill=\"#000000\">value = [2, 1]</text>\n<text text-anchor=\"start\" x=\"1581\" y=\"-468.8\" font-family=\"Helvetica,sans-Serif\" font-size=\"14.00\" fill=\"#000000\">class = yes</text>\n</g>\n<!-- 59&#45;&gt;61 -->\n<g id=\"edge61\" class=\"edge\">\n<title>59&#45;&gt;61</title>\n<path fill=\"none\" stroke=\"#000000\" d=\"M1577.1846,-579.8796C1581.6423,-571.3236 1586.3834,-562.2238 1590.9894,-553.3833\"/>\n<polygon fill=\"#000000\" stroke=\"#000000\" points=\"1594.2062,-554.7838 1595.7229,-544.2981 1587.9983,-551.5494 1594.2062,-554.7838\"/>\n</g>\n<!-- 62 -->\n<g id=\"node63\" class=\"node\">\n<title>62</title>\n<path fill=\"#399de5\" stroke=\"#000000\" d=\"M1596,-417.5C1596,-417.5 1521,-417.5 1521,-417.5 1515,-417.5 1509,-411.5 1509,-405.5 1509,-405.5 1509,-361.5 1509,-361.5 1509,-355.5 1515,-349.5 1521,-349.5 1521,-349.5 1596,-349.5 1596,-349.5 1602,-349.5 1608,-355.5 1608,-361.5 1608,-361.5 1608,-405.5 1608,-405.5 1608,-411.5 1602,-417.5 1596,-417.5\"/>\n<text text-anchor=\"start\" x=\"1529\" y=\"-402.3\" font-family=\"Helvetica,sans-Serif\" font-size=\"14.00\" fill=\"#000000\">gini = 0.0</text>\n<text text-anchor=\"start\" x=\"1519\" y=\"-387.3\" font-family=\"Helvetica,sans-Serif\" font-size=\"14.00\" fill=\"#000000\">samples = 1</text>\n<text text-anchor=\"start\" x=\"1517\" y=\"-372.3\" font-family=\"Helvetica,sans-Serif\" font-size=\"14.00\" fill=\"#000000\">value = [0, 1]</text>\n<text text-anchor=\"start\" x=\"1525\" y=\"-357.3\" font-family=\"Helvetica,sans-Serif\" font-size=\"14.00\" fill=\"#000000\">class = no</text>\n</g>\n<!-- 61&#45;&gt;62 -->\n<g id=\"edge62\" class=\"edge\">\n<title>61&#45;&gt;62</title>\n<path fill=\"none\" stroke=\"#000000\" d=\"M1596.8647,-460.8796C1591.4128,-449.8835 1585.5157,-437.9893 1580.0184,-426.9015\"/>\n<polygon fill=\"#000000\" stroke=\"#000000\" points=\"1583.0911,-425.2195 1575.5133,-417.8149 1576.8196,-428.3289 1583.0911,-425.2195\"/>\n</g>\n<!-- 63 -->\n<g id=\"node64\" class=\"node\">\n<title>63</title>\n<path fill=\"#e58139\" stroke=\"#000000\" d=\"M1713,-417.5C1713,-417.5 1638,-417.5 1638,-417.5 1632,-417.5 1626,-411.5 1626,-405.5 1626,-405.5 1626,-361.5 1626,-361.5 1626,-355.5 1632,-349.5 1638,-349.5 1638,-349.5 1713,-349.5 1713,-349.5 1719,-349.5 1725,-355.5 1725,-361.5 1725,-361.5 1725,-405.5 1725,-405.5 1725,-411.5 1719,-417.5 1713,-417.5\"/>\n<text text-anchor=\"start\" x=\"1646\" y=\"-402.3\" font-family=\"Helvetica,sans-Serif\" font-size=\"14.00\" fill=\"#000000\">gini = 0.0</text>\n<text text-anchor=\"start\" x=\"1636\" y=\"-387.3\" font-family=\"Helvetica,sans-Serif\" font-size=\"14.00\" fill=\"#000000\">samples = 2</text>\n<text text-anchor=\"start\" x=\"1634\" y=\"-372.3\" font-family=\"Helvetica,sans-Serif\" font-size=\"14.00\" fill=\"#000000\">value = [2, 0]</text>\n<text text-anchor=\"start\" x=\"1639\" y=\"-357.3\" font-family=\"Helvetica,sans-Serif\" font-size=\"14.00\" fill=\"#000000\">class = yes</text>\n</g>\n<!-- 61&#45;&gt;63 -->\n<g id=\"edge63\" class=\"edge\">\n<title>61&#45;&gt;63</title>\n<path fill=\"none\" stroke=\"#000000\" d=\"M1637.7856,-460.8796C1643.145,-449.8835 1648.9422,-437.9893 1654.3463,-426.9015\"/>\n<polygon fill=\"#000000\" stroke=\"#000000\" points=\"1657.54,-428.3375 1658.7751,-417.8149 1651.2476,-425.2706 1657.54,-428.3375\"/>\n</g>\n<!-- 66 -->\n<g id=\"node67\" class=\"node\">\n<title>66</title>\n<path fill=\"#399de5\" stroke=\"#000000\" d=\"M1848,-655.5C1848,-655.5 1765,-655.5 1765,-655.5 1759,-655.5 1753,-649.5 1753,-643.5 1753,-643.5 1753,-599.5 1753,-599.5 1753,-593.5 1759,-587.5 1765,-587.5 1765,-587.5 1848,-587.5 1848,-587.5 1854,-587.5 1860,-593.5 1860,-599.5 1860,-599.5 1860,-643.5 1860,-643.5 1860,-649.5 1854,-655.5 1848,-655.5\"/>\n<text text-anchor=\"start\" x=\"1777\" y=\"-640.3\" font-family=\"Helvetica,sans-Serif\" font-size=\"14.00\" fill=\"#000000\">gini = 0.0</text>\n<text text-anchor=\"start\" x=\"1762.5\" y=\"-625.3\" font-family=\"Helvetica,sans-Serif\" font-size=\"14.00\" fill=\"#000000\">samples = 10</text>\n<text text-anchor=\"start\" x=\"1761\" y=\"-610.3\" font-family=\"Helvetica,sans-Serif\" font-size=\"14.00\" fill=\"#000000\">value = [0, 10]</text>\n<text text-anchor=\"start\" x=\"1773\" y=\"-595.3\" font-family=\"Helvetica,sans-Serif\" font-size=\"14.00\" fill=\"#000000\">class = no</text>\n</g>\n<!-- 65&#45;&gt;66 -->\n<g id=\"edge66\" class=\"edge\">\n<title>65&#45;&gt;66</title>\n<path fill=\"none\" stroke=\"#000000\" d=\"M1807.8005,-698.8796C1807.6212,-688.2134 1807.4278,-676.7021 1807.2462,-665.9015\"/>\n<polygon fill=\"#000000\" stroke=\"#000000\" points=\"1810.7444,-665.7547 1807.0767,-655.8149 1803.7454,-665.8724 1810.7444,-665.7547\"/>\n</g>\n<!-- 67 -->\n<g id=\"node68\" class=\"node\">\n<title>67</title>\n<path fill=\"#ffffff\" stroke=\"#000000\" d=\"M1965,-663C1965,-663 1890,-663 1890,-663 1884,-663 1878,-657 1878,-651 1878,-651 1878,-592 1878,-592 1878,-586 1884,-580 1890,-580 1890,-580 1965,-580 1965,-580 1971,-580 1977,-586 1977,-592 1977,-592 1977,-651 1977,-651 1977,-657 1971,-663 1965,-663\"/>\n<text text-anchor=\"start\" x=\"1888\" y=\"-647.8\" font-family=\"Helvetica,sans-Serif\" font-size=\"14.00\" fill=\"#000000\">Age ≤ 1.168</text>\n<text text-anchor=\"start\" x=\"1898\" y=\"-632.8\" font-family=\"Helvetica,sans-Serif\" font-size=\"14.00\" fill=\"#000000\">gini = 0.5</text>\n<text text-anchor=\"start\" x=\"1888\" y=\"-617.8\" font-family=\"Helvetica,sans-Serif\" font-size=\"14.00\" fill=\"#000000\">samples = 2</text>\n<text text-anchor=\"start\" x=\"1886\" y=\"-602.8\" font-family=\"Helvetica,sans-Serif\" font-size=\"14.00\" fill=\"#000000\">value = [1, 1]</text>\n<text text-anchor=\"start\" x=\"1891\" y=\"-587.8\" font-family=\"Helvetica,sans-Serif\" font-size=\"14.00\" fill=\"#000000\">class = yes</text>\n</g>\n<!-- 65&#45;&gt;67 -->\n<g id=\"edge67\" class=\"edge\">\n<title>65&#45;&gt;67</title>\n<path fill=\"none\" stroke=\"#000000\" d=\"M1850.1204,-698.8796C1859.3069,-689.6931 1869.1202,-679.8798 1878.5664,-670.4336\"/>\n<polygon fill=\"#000000\" stroke=\"#000000\" points=\"1881.1057,-672.8441 1885.7019,-663.2981 1876.1559,-667.8943 1881.1057,-672.8441\"/>\n</g>\n<!-- 68 -->\n<g id=\"node69\" class=\"node\">\n<title>68</title>\n<path fill=\"#399de5\" stroke=\"#000000\" d=\"M1906,-536.5C1906,-536.5 1831,-536.5 1831,-536.5 1825,-536.5 1819,-530.5 1819,-524.5 1819,-524.5 1819,-480.5 1819,-480.5 1819,-474.5 1825,-468.5 1831,-468.5 1831,-468.5 1906,-468.5 1906,-468.5 1912,-468.5 1918,-474.5 1918,-480.5 1918,-480.5 1918,-524.5 1918,-524.5 1918,-530.5 1912,-536.5 1906,-536.5\"/>\n<text text-anchor=\"start\" x=\"1839\" y=\"-521.3\" font-family=\"Helvetica,sans-Serif\" font-size=\"14.00\" fill=\"#000000\">gini = 0.0</text>\n<text text-anchor=\"start\" x=\"1829\" y=\"-506.3\" font-family=\"Helvetica,sans-Serif\" font-size=\"14.00\" fill=\"#000000\">samples = 1</text>\n<text text-anchor=\"start\" x=\"1827\" y=\"-491.3\" font-family=\"Helvetica,sans-Serif\" font-size=\"14.00\" fill=\"#000000\">value = [0, 1]</text>\n<text text-anchor=\"start\" x=\"1835\" y=\"-476.3\" font-family=\"Helvetica,sans-Serif\" font-size=\"14.00\" fill=\"#000000\">class = no</text>\n</g>\n<!-- 67&#45;&gt;68 -->\n<g id=\"edge68\" class=\"edge\">\n<title>67&#45;&gt;68</title>\n<path fill=\"none\" stroke=\"#000000\" d=\"M1906.8647,-579.8796C1901.4128,-568.8835 1895.5157,-556.9893 1890.0184,-545.9015\"/>\n<polygon fill=\"#000000\" stroke=\"#000000\" points=\"1893.0911,-544.2195 1885.5133,-536.8149 1886.8196,-547.3289 1893.0911,-544.2195\"/>\n</g>\n<!-- 69 -->\n<g id=\"node70\" class=\"node\">\n<title>69</title>\n<path fill=\"#e58139\" stroke=\"#000000\" d=\"M2023,-536.5C2023,-536.5 1948,-536.5 1948,-536.5 1942,-536.5 1936,-530.5 1936,-524.5 1936,-524.5 1936,-480.5 1936,-480.5 1936,-474.5 1942,-468.5 1948,-468.5 1948,-468.5 2023,-468.5 2023,-468.5 2029,-468.5 2035,-474.5 2035,-480.5 2035,-480.5 2035,-524.5 2035,-524.5 2035,-530.5 2029,-536.5 2023,-536.5\"/>\n<text text-anchor=\"start\" x=\"1956\" y=\"-521.3\" font-family=\"Helvetica,sans-Serif\" font-size=\"14.00\" fill=\"#000000\">gini = 0.0</text>\n<text text-anchor=\"start\" x=\"1946\" y=\"-506.3\" font-family=\"Helvetica,sans-Serif\" font-size=\"14.00\" fill=\"#000000\">samples = 1</text>\n<text text-anchor=\"start\" x=\"1944\" y=\"-491.3\" font-family=\"Helvetica,sans-Serif\" font-size=\"14.00\" fill=\"#000000\">value = [1, 0]</text>\n<text text-anchor=\"start\" x=\"1949\" y=\"-476.3\" font-family=\"Helvetica,sans-Serif\" font-size=\"14.00\" fill=\"#000000\">class = yes</text>\n</g>\n<!-- 67&#45;&gt;69 -->\n<g id=\"edge69\" class=\"edge\">\n<title>67&#45;&gt;69</title>\n<path fill=\"none\" stroke=\"#000000\" d=\"M1947.7856,-579.8796C1953.145,-568.8835 1958.9422,-556.9893 1964.3463,-545.9015\"/>\n<polygon fill=\"#000000\" stroke=\"#000000\" points=\"1967.54,-547.3375 1968.7751,-536.8149 1961.2476,-544.2706 1967.54,-547.3375\"/>\n</g>\n</g>\n</svg>\n"
          },
          "metadata": {},
          "execution_count": 20
        }
      ]
    },
    {
      "cell_type": "markdown",
      "metadata": {
        "id": "QuObcH9HC-NS"
      },
      "source": [
        "# Try to increase the Accuracy of the Previous Decision Tree\n",
        "\n",
        "1. Play with Test Size.\n",
        "2. Try Scaling Techniques.\n",
        "3. Modify Tree Parameters.\n",
        "4. Try To Understand Any Parameter You change."
      ]
    },
    {
      "cell_type": "code",
      "metadata": {
        "id": "XSraQe43DgSw",
        "colab": {
          "base_uri": "https://localhost:8080/"
        },
        "outputId": "c0fb3806-c625-4a82-f890-b86d47c8eb14"
      },
      "source": [
        "# function to perform training with entropy\n",
        "\n",
        "clfv = DecisionTreeClassifier(random_state= 0,min_samples_split=2, splitter= 'random' , min_samples_leaf= 5  )\n",
        "clfv.fit(X_train, y_train)\n",
        "y_pred_en = clfv.predict(X_test)\n",
        "print('Accuracy score : ', accuracy_score(y_test, y_pred_en)*100)"
      ],
      "execution_count": null,
      "outputs": [
        {
          "output_type": "stream",
          "name": "stdout",
          "text": [
            "Accuracy score :  88.0\n"
          ]
        }
      ]
    },
    {
      "cell_type": "code",
      "metadata": {
        "id": "spl_POQjDgbe",
        "colab": {
          "base_uri": "https://localhost:8080/"
        },
        "outputId": "b7dff497-3fd2-4cf4-d6ea-5bb9359ba948"
      },
      "source": [
        "classifier = DecisionTreeClassifier ( random_state = 0)\n",
        "# Applying Grid Search to find the best model and the best parameters\n",
        "from sklearn.model_selection import GridSearchCV\n",
        "parameters = [{'min_samples_split': [2, 4 , 6], \"criterion\" :[\"gini\", \"entropy\", \"log_loss\"]},\n",
        "              {'min_samples_split': [2, 4,6], \"criterion\" :[\"gini\", \"entropy\", \"log_loss\"], \"splitter\":[\"best\", \"random\"] , \"min_samples_leaf\": [0.1,2, 5,10, 20,50]}]\n",
        "\n",
        "\n",
        "grid_search = GridSearchCV(estimator = classifier,        # The Classifer That we need its best Parameters\n",
        "                           param_grid = parameters,       # It must Be Dictionary or List Of Dictionaries\n",
        "                           scoring = 'accuracy',          # The type of Evaluation Metric\n",
        "                           cv = 10,                       # default None : Means K Fold =5 , you can change it to any 'int' Number\n",
        "                           n_jobs = 3)                  # None :  For No Parallel Jobs , int : For a Certain Number of Parallel jobs , -1 : for Using ALL PROCESSORS!\n",
        "\n",
        "grid_search = grid_search.fit(X_train, y_train)\n",
        "\n",
        "print(\"best accuracy is :\" , grid_search.best_score_)\n",
        "\n",
        "grid_search.best_params_   # best_parms_  is a method in Grid Search to return The Best with resepct to the Metric"
      ],
      "execution_count": null,
      "outputs": [
        {
          "output_type": "stream",
          "name": "stdout",
          "text": [
            "best accuracy is : 0.9\n"
          ]
        },
        {
          "output_type": "stream",
          "name": "stderr",
          "text": [
            "/usr/local/lib/python3.8/dist-packages/sklearn/model_selection/_validation.py:372: FitFailedWarning: \n",
            "390 fits failed out of a total of 1170.\n",
            "The score on these train-test partitions for these parameters will be set to nan.\n",
            "If these failures are not expected, you can try to debug them by setting error_score='raise'.\n",
            "\n",
            "Below are more details about the failures:\n",
            "--------------------------------------------------------------------------------\n",
            "390 fits failed with the following error:\n",
            "Traceback (most recent call last):\n",
            "  File \"/usr/local/lib/python3.8/dist-packages/sklearn/model_selection/_validation.py\", line 680, in _fit_and_score\n",
            "    estimator.fit(X_train, y_train, **fit_params)\n",
            "  File \"/usr/local/lib/python3.8/dist-packages/sklearn/tree/_classes.py\", line 937, in fit\n",
            "    super().fit(\n",
            "  File \"/usr/local/lib/python3.8/dist-packages/sklearn/tree/_classes.py\", line 352, in fit\n",
            "    criterion = CRITERIA_CLF[self.criterion](\n",
            "KeyError: 'log_loss'\n",
            "\n",
            "  warnings.warn(some_fits_failed_message, FitFailedWarning)\n",
            "/usr/local/lib/python3.8/dist-packages/sklearn/model_selection/_search.py:969: UserWarning: One or more of the test scores are non-finite: [0.84333333 0.83333333 0.83       0.86666667 0.86333333 0.86\n",
            "        nan        nan        nan 0.9        0.9        0.9\n",
            " 0.9        0.9        0.9        0.83       0.86       0.83\n",
            " 0.86       0.82333333 0.86666667 0.85       0.89666667 0.85\n",
            " 0.89666667 0.85       0.89666667 0.88       0.88333333 0.88\n",
            " 0.88333333 0.88       0.88333333 0.9        0.85333333 0.9\n",
            " 0.85333333 0.9        0.85333333 0.84666667 0.82333333 0.84666667\n",
            " 0.82333333 0.84666667 0.82333333 0.9        0.9        0.9\n",
            " 0.9        0.9        0.9        0.84       0.82666667 0.84\n",
            " 0.82666667 0.84666667 0.84       0.86333333 0.89333333 0.86333333\n",
            " 0.89333333 0.86333333 0.89333333 0.88       0.88333333 0.88\n",
            " 0.88333333 0.88       0.88333333 0.9        0.85333333 0.9\n",
            " 0.85333333 0.9        0.85333333 0.84666667 0.82333333 0.84666667\n",
            " 0.82333333 0.84666667 0.82333333        nan        nan        nan\n",
            "        nan        nan        nan        nan        nan        nan\n",
            "        nan        nan        nan        nan        nan        nan\n",
            "        nan        nan        nan        nan        nan        nan\n",
            "        nan        nan        nan        nan        nan        nan\n",
            "        nan        nan        nan        nan        nan        nan\n",
            "        nan        nan        nan]\n",
            "  warnings.warn(\n"
          ]
        },
        {
          "output_type": "execute_result",
          "data": {
            "text/plain": [
              "{'criterion': 'gini',\n",
              " 'min_samples_leaf': 0.1,\n",
              " 'min_samples_split': 2,\n",
              " 'splitter': 'best'}"
            ]
          },
          "metadata": {},
          "execution_count": 43
        }
      ]
    },
    {
      "cell_type": "markdown",
      "metadata": {
        "id": "gAn-iavCEHpf"
      },
      "source": [
        "# Build a Logistic Regression\n",
        "\n",
        "1. From Sk Learn Try to build a Logistic Regression\n",
        "2. Check the Accuracy  of it and compare with DT\n",
        "3. What do you think Logistic Regression has limit with ?"
      ]
    },
    {
      "cell_type": "code",
      "metadata": {
        "id": "TggOCNoJEhBf"
      },
      "source": [
        "from sklearn.linear_model import LogisticRegression"
      ],
      "execution_count": null,
      "outputs": []
    },
    {
      "cell_type": "code",
      "metadata": {
        "id": "KmHfqOXwEfTA",
        "colab": {
          "base_uri": "https://localhost:8080/"
        },
        "outputId": "13879699-5196-4e1a-88f9-20ba5fd20f73"
      },
      "source": [
        "# Your Code Here\n",
        "\n",
        "lg =  LogisticRegression(random_state= 4 , solver = \"liblinear\" , penalty = \"l1\" )\n",
        "lg.fit(X_train, y_train)\n",
        "y_pred_en = lg.predict(X_test)\n",
        "print('Accuracy score : ', accuracy_score(y_test, y_pred_en)*100)"
      ],
      "execution_count": null,
      "outputs": [
        {
          "output_type": "stream",
          "name": "stdout",
          "text": [
            "Accuracy score :  87.0\n"
          ]
        }
      ]
    },
    {
      "cell_type": "code",
      "metadata": {
        "id": "ehaLi56oEg_I",
        "colab": {
          "base_uri": "https://localhost:8080/"
        },
        "outputId": "9f5b939c-ff11-4892-d81c-184359dd8a40"
      },
      "source": [
        "classifier = LogisticRegression(random_state= 4 )\n",
        "# Applying Grid Search to find the best model and the best parameters\n",
        "from sklearn.model_selection import GridSearchCV\n",
        "parameters = [{'solver':[\"lbfgs\", \"liblinear\", \"newton-cg\", \"newton-cholesky\", \"sag\", \"saga\"], \"penalty\":[\"l1\", 'l2', 'elasticnet'] }]\n",
        "\n",
        "\n",
        "grid_search = GridSearchCV(estimator = classifier,        # The Classifer That we need its best Parameters\n",
        "                           param_grid = parameters,       # It must Be Dictionary or List Of Dictionaries\n",
        "                           scoring = 'accuracy',          # The type of Evaluation Metric\n",
        "                           cv = 10,                       # default None : Means K Fold =5 , you can change it to any 'int' Number\n",
        "                           n_jobs = 3)                  # None :  For No Parallel Jobs , int : For a Certain Number of Parallel jobs , -1 : for Using ALL PROCESSORS!\n",
        "\n",
        "grid_search = grid_search.fit(X_train, y_train)\n",
        "\n",
        "print(\"best accuracy is :\" , grid_search.best_score_)\n",
        "\n",
        "grid_search.best_params_   # best_parms_  is a method in Grid Search to return The Best with resepct to the Metric"
      ],
      "execution_count": null,
      "outputs": [
        {
          "output_type": "stream",
          "name": "stdout",
          "text": [
            "best accuracy is : 0.8333333333333334\n"
          ]
        },
        {
          "output_type": "stream",
          "name": "stderr",
          "text": [
            "/usr/local/lib/python3.8/dist-packages/sklearn/model_selection/_validation.py:372: FitFailedWarning: \n",
            "110 fits failed out of a total of 180.\n",
            "The score on these train-test partitions for these parameters will be set to nan.\n",
            "If these failures are not expected, you can try to debug them by setting error_score='raise'.\n",
            "\n",
            "Below are more details about the failures:\n",
            "--------------------------------------------------------------------------------\n",
            "10 fits failed with the following error:\n",
            "Traceback (most recent call last):\n",
            "  File \"/usr/local/lib/python3.8/dist-packages/sklearn/model_selection/_validation.py\", line 680, in _fit_and_score\n",
            "    estimator.fit(X_train, y_train, **fit_params)\n",
            "  File \"/usr/local/lib/python3.8/dist-packages/sklearn/linear_model/_logistic.py\", line 1461, in fit\n",
            "    solver = _check_solver(self.solver, self.penalty, self.dual)\n",
            "  File \"/usr/local/lib/python3.8/dist-packages/sklearn/linear_model/_logistic.py\", line 447, in _check_solver\n",
            "    raise ValueError(\n",
            "ValueError: Solver lbfgs supports only 'l2' or 'none' penalties, got l1 penalty.\n",
            "\n",
            "--------------------------------------------------------------------------------\n",
            "10 fits failed with the following error:\n",
            "Traceback (most recent call last):\n",
            "  File \"/usr/local/lib/python3.8/dist-packages/sklearn/model_selection/_validation.py\", line 680, in _fit_and_score\n",
            "    estimator.fit(X_train, y_train, **fit_params)\n",
            "  File \"/usr/local/lib/python3.8/dist-packages/sklearn/linear_model/_logistic.py\", line 1461, in fit\n",
            "    solver = _check_solver(self.solver, self.penalty, self.dual)\n",
            "  File \"/usr/local/lib/python3.8/dist-packages/sklearn/linear_model/_logistic.py\", line 447, in _check_solver\n",
            "    raise ValueError(\n",
            "ValueError: Solver newton-cg supports only 'l2' or 'none' penalties, got l1 penalty.\n",
            "\n",
            "--------------------------------------------------------------------------------\n",
            "30 fits failed with the following error:\n",
            "Traceback (most recent call last):\n",
            "  File \"/usr/local/lib/python3.8/dist-packages/sklearn/model_selection/_validation.py\", line 680, in _fit_and_score\n",
            "    estimator.fit(X_train, y_train, **fit_params)\n",
            "  File \"/usr/local/lib/python3.8/dist-packages/sklearn/linear_model/_logistic.py\", line 1461, in fit\n",
            "    solver = _check_solver(self.solver, self.penalty, self.dual)\n",
            "  File \"/usr/local/lib/python3.8/dist-packages/sklearn/linear_model/_logistic.py\", line 434, in _check_solver\n",
            "    raise ValueError(\n",
            "ValueError: Logistic Regression supports only solvers in ['liblinear', 'newton-cg', 'lbfgs', 'sag', 'saga'], got newton-cholesky.\n",
            "\n",
            "--------------------------------------------------------------------------------\n",
            "10 fits failed with the following error:\n",
            "Traceback (most recent call last):\n",
            "  File \"/usr/local/lib/python3.8/dist-packages/sklearn/model_selection/_validation.py\", line 680, in _fit_and_score\n",
            "    estimator.fit(X_train, y_train, **fit_params)\n",
            "  File \"/usr/local/lib/python3.8/dist-packages/sklearn/linear_model/_logistic.py\", line 1461, in fit\n",
            "    solver = _check_solver(self.solver, self.penalty, self.dual)\n",
            "  File \"/usr/local/lib/python3.8/dist-packages/sklearn/linear_model/_logistic.py\", line 447, in _check_solver\n",
            "    raise ValueError(\n",
            "ValueError: Solver sag supports only 'l2' or 'none' penalties, got l1 penalty.\n",
            "\n",
            "--------------------------------------------------------------------------------\n",
            "10 fits failed with the following error:\n",
            "Traceback (most recent call last):\n",
            "  File \"/usr/local/lib/python3.8/dist-packages/sklearn/model_selection/_validation.py\", line 680, in _fit_and_score\n",
            "    estimator.fit(X_train, y_train, **fit_params)\n",
            "  File \"/usr/local/lib/python3.8/dist-packages/sklearn/linear_model/_logistic.py\", line 1461, in fit\n",
            "    solver = _check_solver(self.solver, self.penalty, self.dual)\n",
            "  File \"/usr/local/lib/python3.8/dist-packages/sklearn/linear_model/_logistic.py\", line 447, in _check_solver\n",
            "    raise ValueError(\n",
            "ValueError: Solver lbfgs supports only 'l2' or 'none' penalties, got elasticnet penalty.\n",
            "\n",
            "--------------------------------------------------------------------------------\n",
            "10 fits failed with the following error:\n",
            "Traceback (most recent call last):\n",
            "  File \"/usr/local/lib/python3.8/dist-packages/sklearn/model_selection/_validation.py\", line 680, in _fit_and_score\n",
            "    estimator.fit(X_train, y_train, **fit_params)\n",
            "  File \"/usr/local/lib/python3.8/dist-packages/sklearn/linear_model/_logistic.py\", line 1461, in fit\n",
            "    solver = _check_solver(self.solver, self.penalty, self.dual)\n",
            "  File \"/usr/local/lib/python3.8/dist-packages/sklearn/linear_model/_logistic.py\", line 457, in _check_solver\n",
            "    raise ValueError(\n",
            "ValueError: Only 'saga' solver supports elasticnet penalty, got solver=liblinear.\n",
            "\n",
            "--------------------------------------------------------------------------------\n",
            "10 fits failed with the following error:\n",
            "Traceback (most recent call last):\n",
            "  File \"/usr/local/lib/python3.8/dist-packages/sklearn/model_selection/_validation.py\", line 680, in _fit_and_score\n",
            "    estimator.fit(X_train, y_train, **fit_params)\n",
            "  File \"/usr/local/lib/python3.8/dist-packages/sklearn/linear_model/_logistic.py\", line 1461, in fit\n",
            "    solver = _check_solver(self.solver, self.penalty, self.dual)\n",
            "  File \"/usr/local/lib/python3.8/dist-packages/sklearn/linear_model/_logistic.py\", line 447, in _check_solver\n",
            "    raise ValueError(\n",
            "ValueError: Solver newton-cg supports only 'l2' or 'none' penalties, got elasticnet penalty.\n",
            "\n",
            "--------------------------------------------------------------------------------\n",
            "10 fits failed with the following error:\n",
            "Traceback (most recent call last):\n",
            "  File \"/usr/local/lib/python3.8/dist-packages/sklearn/model_selection/_validation.py\", line 680, in _fit_and_score\n",
            "    estimator.fit(X_train, y_train, **fit_params)\n",
            "  File \"/usr/local/lib/python3.8/dist-packages/sklearn/linear_model/_logistic.py\", line 1461, in fit\n",
            "    solver = _check_solver(self.solver, self.penalty, self.dual)\n",
            "  File \"/usr/local/lib/python3.8/dist-packages/sklearn/linear_model/_logistic.py\", line 447, in _check_solver\n",
            "    raise ValueError(\n",
            "ValueError: Solver sag supports only 'l2' or 'none' penalties, got elasticnet penalty.\n",
            "\n",
            "--------------------------------------------------------------------------------\n",
            "10 fits failed with the following error:\n",
            "Traceback (most recent call last):\n",
            "  File \"/usr/local/lib/python3.8/dist-packages/sklearn/model_selection/_validation.py\", line 680, in _fit_and_score\n",
            "    estimator.fit(X_train, y_train, **fit_params)\n",
            "  File \"/usr/local/lib/python3.8/dist-packages/sklearn/linear_model/_logistic.py\", line 1471, in fit\n",
            "    raise ValueError(\n",
            "ValueError: l1_ratio must be between 0 and 1; got (l1_ratio=None)\n",
            "\n",
            "  warnings.warn(some_fits_failed_message, FitFailedWarning)\n",
            "/usr/local/lib/python3.8/dist-packages/sklearn/model_selection/_search.py:969: UserWarning: One or more of the test scores are non-finite: [       nan 0.83333333        nan        nan        nan 0.83\n",
            " 0.82666667 0.83       0.82666667        nan 0.82666667 0.82666667\n",
            "        nan        nan        nan        nan        nan        nan]\n",
            "  warnings.warn(\n"
          ]
        },
        {
          "output_type": "execute_result",
          "data": {
            "text/plain": [
              "{'penalty': 'l1', 'solver': 'liblinear'}"
            ]
          },
          "metadata": {},
          "execution_count": 44
        }
      ]
    },
    {
      "cell_type": "markdown",
      "metadata": {
        "id": "P3ELf-jpLcll"
      },
      "source": [
        "# **Confusion Matrix**  \n",
        "\n"
      ]
    },
    {
      "cell_type": "code",
      "metadata": {
        "id": "ogQQxxN_Lxkw",
        "colab": {
          "base_uri": "https://localhost:8080/",
          "height": 335
        },
        "outputId": "dabcfaf1-0245-4b3e-a751-c4965e8b4cb8"
      },
      "source": [
        "from sklearn.metrics import plot_confusion_matrix\n",
        "import matplotlib.pyplot as plt\n",
        "\n",
        "disp = plot_confusion_matrix(clf, X_test, y_test,\n",
        "                              display_labels=['Yes','No'],\n",
        "                              cmap=plt.cm.Blues)"
      ],
      "execution_count": null,
      "outputs": [
        {
          "output_type": "stream",
          "name": "stderr",
          "text": [
            "/usr/local/lib/python3.8/dist-packages/sklearn/utils/deprecation.py:87: FutureWarning: Function plot_confusion_matrix is deprecated; Function `plot_confusion_matrix` is deprecated in 1.0 and will be removed in 1.2. Use one of the class methods: ConfusionMatrixDisplay.from_predictions or ConfusionMatrixDisplay.from_estimator.\n",
            "  warnings.warn(msg, category=FutureWarning)\n"
          ]
        },
        {
          "output_type": "display_data",
          "data": {
            "text/plain": [
              "<Figure size 432x288 with 2 Axes>"
            ],
            "image/png": "[encoded data removed]"
          },
          "metadata": {
            "needs_background": "light"
          }
        }
      ]
    },
    {
      "cell_type": "code",
      "metadata": {
        "id": "zSNOT3VgDDMf",
        "colab": {
          "base_uri": "https://localhost:8080/",
          "height": 36
        },
        "outputId": "33300d8d-64af-41f0-fb45-19c6da2cb105"
      },
      "source": [
        "import sklearn\n",
        "sklearn.__version__"
      ],
      "execution_count": null,
      "outputs": [
        {
          "output_type": "execute_result",
          "data": {
            "text/plain": [
              "'1.0.2'"
            ],
            "application/vnd.google.colaboratory.intrinsic+json": {
              "type": "string"
            }
          },
          "metadata": {},
          "execution_count": 46
        }
      ]
    },
    {
      "cell_type": "code",
      "metadata": {
        "id": "owUIsrzODL9W"
      },
      "source": [
        "# !conda install scikit-learn=0.22"
      ],
      "execution_count": null,
      "outputs": []
    },
    {
      "cell_type": "code",
      "metadata": {
        "id": "NQ6agHDVCXLJ",
        "colab": {
          "base_uri": "https://localhost:8080/"
        },
        "outputId": "dba461c2-0135-4e5d-9b60-d551f657507b"
      },
      "source": [
        "from sklearn.metrics import confusion_matrix\n",
        "cm = confusion_matrix(y_test,y_pred_en)\n",
        "cm"
      ],
      "execution_count": null,
      "outputs": [
        {
          "output_type": "execute_result",
          "data": {
            "text/plain": [
              "array([[63,  5],\n",
              "       [ 4, 28]])"
            ]
          },
          "metadata": {},
          "execution_count": 47
        }
      ]
    },
    {
      "cell_type": "markdown",
      "metadata": {
        "id": "kxBpHIVBWF0z"
      },
      "source": [
        "# **Cross Validation**\n",
        "Let's Use Cross Validation Techniques\n",
        "1.   For Validating the Model\n",
        "2.   To Get the Best Hyper Parameters\n"
      ]
    },
    {
      "cell_type": "markdown",
      "metadata": {
        "id": "-9Apn7Cnfx_u"
      },
      "source": [
        "**Validation Techniques**\n",
        "- Validation Set Approach.\n",
        "- Leave One Out Cross Validation.\n",
        "- K-Fold Cross Validation"
      ]
    },
    {
      "cell_type": "code",
      "metadata": {
        "id": "EAyIqk4JV0c3",
        "colab": {
          "base_uri": "https://localhost:8080/"
        },
        "outputId": "7ef37eb1-f596-4380-9720-8ec4c2a61b67"
      },
      "source": [
        "# Applying k-Fold Cross Validation\n",
        "from sklearn.model_selection import cross_val_score\n",
        "results = cross_val_score(estimator = clf, X = X_train, y = y_train, cv = 10)\n",
        "print(\"Accuracy: %.5f%% \" % (results.mean()*100.0))"
      ],
      "execution_count": null,
      "outputs": [
        {
          "output_type": "stream",
          "name": "stdout",
          "text": [
            "Accuracy: 84.33333% \n"
          ]
        }
      ]
    },
    {
      "cell_type": "code",
      "metadata": {
        "id": "ZxiS4Csn4h99",
        "colab": {
          "base_uri": "https://localhost:8080/"
        },
        "outputId": "b303ef42-4ac4-4720-ab09-9901565626d2"
      },
      "source": [
        "from sklearn.model_selection import LeaveOneOut\n",
        "loocv = LeaveOneOut()\n",
        "results = cross_val_score(estimator = clf, X = X_train, y = y_train, cv = loocv)\n",
        "print(\"Accuracy: %.3f%% \" % (results.mean()*100.0))"
      ],
      "execution_count": null,
      "outputs": [
        {
          "output_type": "stream",
          "name": "stdout",
          "text": [
            "Accuracy: 83.333% \n"
          ]
        }
      ]
    },
    {
      "cell_type": "code",
      "source": [
        "results"
      ],
      "metadata": {
        "id": "srMpdYOZ0P1t"
      },
      "execution_count": null,
      "outputs": []
    },
    {
      "cell_type": "markdown",
      "metadata": {
        "id": "y49W-DSdW_8L"
      },
      "source": [
        "# **Grid Search CV** :Getting Best Hyper Parameters\n"
      ]
    },
    {
      "cell_type": "code",
      "metadata": {
        "id": "O5b7pnJ6XTss",
        "colab": {
          "base_uri": "https://localhost:8080/"
        },
        "outputId": "fc4d1928-d032-4586-8de4-89cd6e3b8422"
      },
      "source": [
        "# Pick a Classifier you are searching for its best Paramters\n",
        "from sklearn.svm import SVC\n",
        "classifier = SVC(kernel = 'rbf', random_state = 0)\n",
        "\n",
        "\n",
        "# Applying Grid Search to find the best model and the best parameters\n",
        "from sklearn.model_selection import GridSearchCV\n",
        "parameters = [{'C': [1, 10 , 100], 'kernel': ['linear']},\n",
        "              {'C': [1, 10,100], 'kernel': ['rbf'], 'gamma': [0.1, 0.2 , 0.3]}]\n",
        "\n",
        "\n",
        "grid_search = GridSearchCV(estimator = classifier,        # The Classifer That we need its best Parameters\n",
        "                           param_grid = parameters,       # It must Be Dictionary or List Of Dictionaries\n",
        "                           scoring = 'accuracy',          # The type of Evaluation Metric\n",
        "                           cv = 10,                       # default None : Means K Fold =5 , you can change it to any 'int' Number\n",
        "                           n_jobs = 3)                  # None :  For No Parallel Jobs , int : For a Certain Number of Parallel jobs , -1 : for Using ALL PROCESSORS!\n",
        "\n",
        "grid_search = grid_search.fit(X_train, y_train)\n",
        "\n",
        "print(\"best accuracy is :\" , grid_search.best_score_)\n",
        "\n",
        "grid_search.best_params_   # best_parms_  is a method in Grid Search to return The Best with resepct to the Metric"
      ],
      "execution_count": null,
      "outputs": [
        {
          "output_type": "stream",
          "name": "stdout",
          "text": [
            "best accuracy is : 0.8966666666666667\n"
          ]
        },
        {
          "output_type": "execute_result",
          "data": {
            "text/plain": [
              "{'C': 1, 'gamma': 0.3, 'kernel': 'rbf'}"
            ]
          },
          "metadata": {},
          "execution_count": 53
        }
      ]
    },
    {
      "cell_type": "code",
      "metadata": {
        "id": "_uWVHYWNO0Mf"
      },
      "source": [
        "classifier = SVC(kernel = 'rbf',C=1, tol=1e-1,  gamma= 0.3 )\n",
        "classifier.fit(X_train,y_train)\n",
        "y_pr=classifier.predict(X_test)"
      ],
      "execution_count": null,
      "outputs": []
    },
    {
      "cell_type": "code",
      "metadata": {
        "id": "OONuMix0PJLg",
        "colab": {
          "base_uri": "https://localhost:8080/"
        },
        "outputId": "342381ed-d55b-485a-ef7d-1905a145726f"
      },
      "source": [
        "accuracy_score(y_test, y_pr)*100"
      ],
      "execution_count": null,
      "outputs": [
        {
          "output_type": "execute_result",
          "data": {
            "text/plain": [
              "92.0"
            ]
          },
          "metadata": {},
          "execution_count": 65
        }
      ]
    },
    {
      "cell_type": "markdown",
      "source": [
        "## Random Forest"
      ],
      "metadata": {
        "id": "4SXEu0qG1PIt"
      }
    },
    {
      "cell_type": "code",
      "metadata": {
        "id": "lLlAVr-RLPjC"
      },
      "source": [
        "from sklearn.ensemble import RandomForestClassifier\n",
        "from sklearn.model_selection import GridSearchCV\n",
        "rf=RandomForestClassifier()\n",
        "parameters= {'n_estimators':[100,200,500,600],\n",
        "             'max_depth':[3,5,7]}\n",
        "\n",
        "\n",
        "grid_search = GridSearchCV(estimator = rf,        # The Classifer That we need its best Parameters\n",
        "                           param_grid = parameters,       # It must Be Dictionary or List Of Dictionaries\n",
        "                           scoring = 'accuracy',          # The type of Evaluation Metric\n",
        "                           cv = 10,                       # default None : Means K Fold =5 , you can change it to any 'int' Number\n",
        "                           n_jobs = -1)                  # None :  For No Parallel Jobs , int : For a Certain Number of Parallel jobs , -1 : for Using ALL PROCESSORS!\n",
        "\n",
        "\n",
        "\n",
        "grid_search = grid_search.fit(X_train, y_train)\n",
        "\n",
        "print(\"best accuracy is :\" , grid_search.best_score_)\n",
        "\n",
        "grid_search.best_params_\n"
      ],
      "execution_count": null,
      "outputs": []
    },
    {
      "cell_type": "code",
      "metadata": {
        "id": "O_k5bfBMMFfk"
      },
      "source": [
        "preds=rf.predict(X_test)\n",
        "accuracy_score(y_test,preds)"
      ],
      "execution_count": null,
      "outputs": []
    },
    {
      "cell_type": "markdown",
      "metadata": {
        "id": "NN3_88SP9M1o"
      },
      "source": [
        "# **Saving And Loading Models**"
      ]
    },
    {
      "cell_type": "code",
      "metadata": {
        "id": "Z2mNsPfy5_S1"
      },
      "source": [
        "import pickle\n",
        "# save the model to disk\n",
        "filename = '3atrees.sav'\n",
        "pickle.dump(clf, open(filename, 'wb'))"
      ],
      "execution_count": null,
      "outputs": []
    },
    {
      "cell_type": "code",
      "metadata": {
        "id": "VYdZZY9bMSZs"
      },
      "source": [],
      "execution_count": null,
      "outputs": []
    },
    {
      "cell_type": "code",
      "metadata": {
        "id": "OyJT8DEA9fl-",
        "colab": {
          "base_uri": "https://localhost:8080/"
        },
        "outputId": "057fcdfa-cf88-488f-97f7-82554f2085fd"
      },
      "source": [
        "# some time later...\n",
        "# load the model from disk\n",
        "loaded_model = pickle.load(open(filename, 'rb'))\n",
        "result = loaded_model.score(X_test, y_test)\n",
        "print(result)"
      ],
      "execution_count": null,
      "outputs": [
        {
          "output_type": "stream",
          "name": "stdout",
          "text": [
            "0.91\n"
          ]
        }
      ]
    },
    {
      "cell_type": "code",
      "metadata": {
        "id": "3oLf8I5lMsqE"
      },
      "source": [
        "# inference\n",
        "import pickle\n",
        "\n",
        "loaded_model = pickle.load(open(filename, 'rb'))\n",
        "loaded_model.predict(X_test)"
      ],
      "execution_count": null,
      "outputs": []
    },
    {
      "cell_type": "markdown",
      "metadata": {
        "id": "aZu9cXX5ULvq"
      },
      "source": [
        "# Things Now Get More Tense\n",
        "Build the Following Codes\n",
        "* K - Nearest Neighbours\n",
        "* SVM [ Linear ]\n",
        "* Random Forest\n",
        "With Confusion Matrix for each and [Cross Validate](https://machinelearningmastery.com/evaluate-performance-machine-learning-algorithms-python-using-resampling/) them\n"
      ]
    },
    {
      "cell_type": "code",
      "metadata": {
        "id": "E9IFa8RIL2tD"
      },
      "source": [],
      "execution_count": null,
      "outputs": []
    }
  ]
}